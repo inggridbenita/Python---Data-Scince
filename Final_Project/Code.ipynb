{
  "nbformat": 4,
  "nbformat_minor": 0,
  "metadata": {
    "colab": {
      "name": "Final_Project.ipynb",
      "provenance": [],
      "collapsed_sections": []
    },
    "kernelspec": {
      "name": "python3",
      "display_name": "Python 3"
    },
    "language_info": {
      "name": "python"
    }
  },
  "cells": [
    {
      "cell_type": "markdown",
      "metadata": {
        "id": "oSNIixI9y1Mm"
      },
      "source": [
        "# Nama : Inggrid Resmi Benita\n",
        "\n",
        "# E-mail : inggridrb@gmail.com"
      ]
    },
    {
      "cell_type": "markdown",
      "metadata": {
        "id": "kVOmAXjjEGj0"
      },
      "source": [
        "# Import Library"
      ]
    },
    {
      "cell_type": "code",
      "metadata": {
        "id": "RkMhKSTVEKr6"
      },
      "source": [
        "import matplotlib.pyplot as plt\n",
        "import numpy as np\n",
        "from sklearn.metrics import silhouette_score\n",
        "from sklearn.cluster import KMeans\n",
        "import seaborn as sns\n",
        "from google.colab import files\n",
        "import pandas as pd"
      ],
      "execution_count": null,
      "outputs": []
    },
    {
      "cell_type": "markdown",
      "metadata": {
        "id": "IFB5gIx9EMwC"
      },
      "source": [
        "# Read Data"
      ]
    },
    {
      "cell_type": "code",
      "metadata": {
        "colab": {
          "base_uri": "https://localhost:8080/",
          "height": 415
        },
        "id": "ChvWQn2Cyx3K",
        "outputId": "e9bd32ce-1d89-4b77-9230-1df2f7deb67a"
      },
      "source": [
        "df = pd.read_csv('https://firebasestorage.googleapis.com/v0/b/final-project-8811e.appspot.com/o/Data_Negara_HELP.csv?alt=media&token=0ab3c952-7f3f-4109-96fd-4a124d69eb13')\n",
        "df"
      ],
      "execution_count": null,
      "outputs": [
        {
          "output_type": "execute_result",
          "data": {
            "text/html": [
              "<div>\n",
              "<style scoped>\n",
              "    .dataframe tbody tr th:only-of-type {\n",
              "        vertical-align: middle;\n",
              "    }\n",
              "\n",
              "    .dataframe tbody tr th {\n",
              "        vertical-align: top;\n",
              "    }\n",
              "\n",
              "    .dataframe thead th {\n",
              "        text-align: right;\n",
              "    }\n",
              "</style>\n",
              "<table border=\"1\" class=\"dataframe\">\n",
              "  <thead>\n",
              "    <tr style=\"text-align: right;\">\n",
              "      <th></th>\n",
              "      <th>Negara</th>\n",
              "      <th>Kematian_anak</th>\n",
              "      <th>Ekspor</th>\n",
              "      <th>Kesehatan</th>\n",
              "      <th>Impor</th>\n",
              "      <th>Pendapatan</th>\n",
              "      <th>Inflasi</th>\n",
              "      <th>Harapan_hidup</th>\n",
              "      <th>Jumlah_fertiliti</th>\n",
              "      <th>GDPperkapita</th>\n",
              "    </tr>\n",
              "  </thead>\n",
              "  <tbody>\n",
              "    <tr>\n",
              "      <th>0</th>\n",
              "      <td>Afghanistan</td>\n",
              "      <td>90.2</td>\n",
              "      <td>10.0</td>\n",
              "      <td>7.58</td>\n",
              "      <td>44.9</td>\n",
              "      <td>1610</td>\n",
              "      <td>9.44</td>\n",
              "      <td>56.2</td>\n",
              "      <td>5.82</td>\n",
              "      <td>553</td>\n",
              "    </tr>\n",
              "    <tr>\n",
              "      <th>1</th>\n",
              "      <td>Albania</td>\n",
              "      <td>16.6</td>\n",
              "      <td>28.0</td>\n",
              "      <td>6.55</td>\n",
              "      <td>48.6</td>\n",
              "      <td>9930</td>\n",
              "      <td>4.49</td>\n",
              "      <td>76.3</td>\n",
              "      <td>1.65</td>\n",
              "      <td>4090</td>\n",
              "    </tr>\n",
              "    <tr>\n",
              "      <th>2</th>\n",
              "      <td>Algeria</td>\n",
              "      <td>27.3</td>\n",
              "      <td>38.4</td>\n",
              "      <td>4.17</td>\n",
              "      <td>31.4</td>\n",
              "      <td>12900</td>\n",
              "      <td>16.10</td>\n",
              "      <td>76.5</td>\n",
              "      <td>2.89</td>\n",
              "      <td>4460</td>\n",
              "    </tr>\n",
              "    <tr>\n",
              "      <th>3</th>\n",
              "      <td>Angola</td>\n",
              "      <td>119.0</td>\n",
              "      <td>62.3</td>\n",
              "      <td>2.85</td>\n",
              "      <td>42.9</td>\n",
              "      <td>5900</td>\n",
              "      <td>22.40</td>\n",
              "      <td>60.1</td>\n",
              "      <td>6.16</td>\n",
              "      <td>3530</td>\n",
              "    </tr>\n",
              "    <tr>\n",
              "      <th>4</th>\n",
              "      <td>Antigua and Barbuda</td>\n",
              "      <td>10.3</td>\n",
              "      <td>45.5</td>\n",
              "      <td>6.03</td>\n",
              "      <td>58.9</td>\n",
              "      <td>19100</td>\n",
              "      <td>1.44</td>\n",
              "      <td>76.8</td>\n",
              "      <td>2.13</td>\n",
              "      <td>12200</td>\n",
              "    </tr>\n",
              "    <tr>\n",
              "      <th>...</th>\n",
              "      <td>...</td>\n",
              "      <td>...</td>\n",
              "      <td>...</td>\n",
              "      <td>...</td>\n",
              "      <td>...</td>\n",
              "      <td>...</td>\n",
              "      <td>...</td>\n",
              "      <td>...</td>\n",
              "      <td>...</td>\n",
              "      <td>...</td>\n",
              "    </tr>\n",
              "    <tr>\n",
              "      <th>162</th>\n",
              "      <td>Vanuatu</td>\n",
              "      <td>29.2</td>\n",
              "      <td>46.6</td>\n",
              "      <td>5.25</td>\n",
              "      <td>52.7</td>\n",
              "      <td>2950</td>\n",
              "      <td>2.62</td>\n",
              "      <td>63.0</td>\n",
              "      <td>3.50</td>\n",
              "      <td>2970</td>\n",
              "    </tr>\n",
              "    <tr>\n",
              "      <th>163</th>\n",
              "      <td>Venezuela</td>\n",
              "      <td>17.1</td>\n",
              "      <td>28.5</td>\n",
              "      <td>4.91</td>\n",
              "      <td>17.6</td>\n",
              "      <td>16500</td>\n",
              "      <td>45.90</td>\n",
              "      <td>75.4</td>\n",
              "      <td>2.47</td>\n",
              "      <td>13500</td>\n",
              "    </tr>\n",
              "    <tr>\n",
              "      <th>164</th>\n",
              "      <td>Vietnam</td>\n",
              "      <td>23.3</td>\n",
              "      <td>72.0</td>\n",
              "      <td>6.84</td>\n",
              "      <td>80.2</td>\n",
              "      <td>4490</td>\n",
              "      <td>12.10</td>\n",
              "      <td>73.1</td>\n",
              "      <td>1.95</td>\n",
              "      <td>1310</td>\n",
              "    </tr>\n",
              "    <tr>\n",
              "      <th>165</th>\n",
              "      <td>Yemen</td>\n",
              "      <td>56.3</td>\n",
              "      <td>30.0</td>\n",
              "      <td>5.18</td>\n",
              "      <td>34.4</td>\n",
              "      <td>4480</td>\n",
              "      <td>23.60</td>\n",
              "      <td>67.5</td>\n",
              "      <td>4.67</td>\n",
              "      <td>1310</td>\n",
              "    </tr>\n",
              "    <tr>\n",
              "      <th>166</th>\n",
              "      <td>Zambia</td>\n",
              "      <td>83.1</td>\n",
              "      <td>37.0</td>\n",
              "      <td>5.89</td>\n",
              "      <td>30.9</td>\n",
              "      <td>3280</td>\n",
              "      <td>14.00</td>\n",
              "      <td>52.0</td>\n",
              "      <td>5.40</td>\n",
              "      <td>1460</td>\n",
              "    </tr>\n",
              "  </tbody>\n",
              "</table>\n",
              "<p>167 rows × 10 columns</p>\n",
              "</div>"
            ],
            "text/plain": [
              "                  Negara  Kematian_anak  ...  Jumlah_fertiliti  GDPperkapita\n",
              "0            Afghanistan           90.2  ...              5.82           553\n",
              "1                Albania           16.6  ...              1.65          4090\n",
              "2                Algeria           27.3  ...              2.89          4460\n",
              "3                 Angola          119.0  ...              6.16          3530\n",
              "4    Antigua and Barbuda           10.3  ...              2.13         12200\n",
              "..                   ...            ...  ...               ...           ...\n",
              "162              Vanuatu           29.2  ...              3.50          2970\n",
              "163            Venezuela           17.1  ...              2.47         13500\n",
              "164              Vietnam           23.3  ...              1.95          1310\n",
              "165                Yemen           56.3  ...              4.67          1310\n",
              "166               Zambia           83.1  ...              5.40          1460\n",
              "\n",
              "[167 rows x 10 columns]"
            ]
          },
          "metadata": {},
          "execution_count": 240
        }
      ]
    },
    {
      "cell_type": "markdown",
      "metadata": {
        "id": "FWHypRtaEeXh"
      },
      "source": [
        "# Exploration"
      ]
    },
    {
      "cell_type": "markdown",
      "metadata": {
        "id": "8OCIebybEpnu"
      },
      "source": [
        "> **Variable Identification**\n",
        "*   Menampilkan info tipe data setiap kolom"
      ]
    },
    {
      "cell_type": "code",
      "metadata": {
        "colab": {
          "base_uri": "https://localhost:8080/"
        },
        "id": "wC97OMFmEz0w",
        "outputId": "490f339e-14c3-47b1-f80a-acc4bd2a76e5"
      },
      "source": [
        "df.info()"
      ],
      "execution_count": null,
      "outputs": [
        {
          "output_type": "stream",
          "name": "stdout",
          "text": [
            "<class 'pandas.core.frame.DataFrame'>\n",
            "RangeIndex: 167 entries, 0 to 166\n",
            "Data columns (total 10 columns):\n",
            " #   Column            Non-Null Count  Dtype  \n",
            "---  ------            --------------  -----  \n",
            " 0   Negara            167 non-null    object \n",
            " 1   Kematian_anak     167 non-null    float64\n",
            " 2   Ekspor            167 non-null    float64\n",
            " 3   Kesehatan         167 non-null    float64\n",
            " 4   Impor             167 non-null    float64\n",
            " 5   Pendapatan        167 non-null    int64  \n",
            " 6   Inflasi           167 non-null    float64\n",
            " 7   Harapan_hidup     167 non-null    float64\n",
            " 8   Jumlah_fertiliti  167 non-null    float64\n",
            " 9   GDPperkapita      167 non-null    int64  \n",
            "dtypes: float64(7), int64(2), object(1)\n",
            "memory usage: 13.2+ KB\n"
          ]
        }
      ]
    },
    {
      "cell_type": "markdown",
      "metadata": {
        "id": "B6xPmmn8FVsb"
      },
      "source": [
        "> **Convert Data**\n",
        "*   Mengubah tipe data nilai pada kolom pendapatan dan kolom GDPperkapita dari integer ke float"
      ]
    },
    {
      "cell_type": "code",
      "metadata": {
        "id": "SW77LYfmFlK4"
      },
      "source": [
        "df['Pendapatan'] = df['Pendapatan'].astype(float)\n",
        "df['GDPperkapita'] = df['GDPperkapita'].astype(float)"
      ],
      "execution_count": null,
      "outputs": []
    },
    {
      "cell_type": "markdown",
      "metadata": {
        "id": "TJruFl74E_AN"
      },
      "source": [
        "> **Statistik Dasar**\n",
        "*   Menghitung ringkasan statistik yang berkaitan dengan kolom pada dataframe. "
      ]
    },
    {
      "cell_type": "code",
      "metadata": {
        "colab": {
          "base_uri": "https://localhost:8080/",
          "height": 294
        },
        "id": "CMmPYO5bE-eL",
        "outputId": "56efcbd4-3161-4eec-9f47-a9d545ff6cf9"
      },
      "source": [
        "df.describe()"
      ],
      "execution_count": null,
      "outputs": [
        {
          "output_type": "execute_result",
          "data": {
            "text/html": [
              "<div>\n",
              "<style scoped>\n",
              "    .dataframe tbody tr th:only-of-type {\n",
              "        vertical-align: middle;\n",
              "    }\n",
              "\n",
              "    .dataframe tbody tr th {\n",
              "        vertical-align: top;\n",
              "    }\n",
              "\n",
              "    .dataframe thead th {\n",
              "        text-align: right;\n",
              "    }\n",
              "</style>\n",
              "<table border=\"1\" class=\"dataframe\">\n",
              "  <thead>\n",
              "    <tr style=\"text-align: right;\">\n",
              "      <th></th>\n",
              "      <th>Kematian_anak</th>\n",
              "      <th>Ekspor</th>\n",
              "      <th>Kesehatan</th>\n",
              "      <th>Impor</th>\n",
              "      <th>Pendapatan</th>\n",
              "      <th>Inflasi</th>\n",
              "      <th>Harapan_hidup</th>\n",
              "      <th>Jumlah_fertiliti</th>\n",
              "      <th>GDPperkapita</th>\n",
              "    </tr>\n",
              "  </thead>\n",
              "  <tbody>\n",
              "    <tr>\n",
              "      <th>count</th>\n",
              "      <td>167.000000</td>\n",
              "      <td>167.000000</td>\n",
              "      <td>167.000000</td>\n",
              "      <td>167.000000</td>\n",
              "      <td>167.000000</td>\n",
              "      <td>167.000000</td>\n",
              "      <td>167.000000</td>\n",
              "      <td>167.000000</td>\n",
              "      <td>167.000000</td>\n",
              "    </tr>\n",
              "    <tr>\n",
              "      <th>mean</th>\n",
              "      <td>38.270060</td>\n",
              "      <td>41.108976</td>\n",
              "      <td>6.815689</td>\n",
              "      <td>46.890215</td>\n",
              "      <td>17144.688623</td>\n",
              "      <td>7.781832</td>\n",
              "      <td>70.555689</td>\n",
              "      <td>2.947964</td>\n",
              "      <td>12964.155689</td>\n",
              "    </tr>\n",
              "    <tr>\n",
              "      <th>std</th>\n",
              "      <td>40.328931</td>\n",
              "      <td>27.412010</td>\n",
              "      <td>2.746837</td>\n",
              "      <td>24.209589</td>\n",
              "      <td>19278.067698</td>\n",
              "      <td>10.570704</td>\n",
              "      <td>8.893172</td>\n",
              "      <td>1.513848</td>\n",
              "      <td>18328.704809</td>\n",
              "    </tr>\n",
              "    <tr>\n",
              "      <th>min</th>\n",
              "      <td>2.600000</td>\n",
              "      <td>0.109000</td>\n",
              "      <td>1.810000</td>\n",
              "      <td>0.065900</td>\n",
              "      <td>609.000000</td>\n",
              "      <td>-4.210000</td>\n",
              "      <td>32.100000</td>\n",
              "      <td>1.150000</td>\n",
              "      <td>231.000000</td>\n",
              "    </tr>\n",
              "    <tr>\n",
              "      <th>25%</th>\n",
              "      <td>8.250000</td>\n",
              "      <td>23.800000</td>\n",
              "      <td>4.920000</td>\n",
              "      <td>30.200000</td>\n",
              "      <td>3355.000000</td>\n",
              "      <td>1.810000</td>\n",
              "      <td>65.300000</td>\n",
              "      <td>1.795000</td>\n",
              "      <td>1330.000000</td>\n",
              "    </tr>\n",
              "    <tr>\n",
              "      <th>50%</th>\n",
              "      <td>19.300000</td>\n",
              "      <td>35.000000</td>\n",
              "      <td>6.320000</td>\n",
              "      <td>43.300000</td>\n",
              "      <td>9960.000000</td>\n",
              "      <td>5.390000</td>\n",
              "      <td>73.100000</td>\n",
              "      <td>2.410000</td>\n",
              "      <td>4660.000000</td>\n",
              "    </tr>\n",
              "    <tr>\n",
              "      <th>75%</th>\n",
              "      <td>62.100000</td>\n",
              "      <td>51.350000</td>\n",
              "      <td>8.600000</td>\n",
              "      <td>58.750000</td>\n",
              "      <td>22800.000000</td>\n",
              "      <td>10.750000</td>\n",
              "      <td>76.800000</td>\n",
              "      <td>3.880000</td>\n",
              "      <td>14050.000000</td>\n",
              "    </tr>\n",
              "    <tr>\n",
              "      <th>max</th>\n",
              "      <td>208.000000</td>\n",
              "      <td>200.000000</td>\n",
              "      <td>17.900000</td>\n",
              "      <td>174.000000</td>\n",
              "      <td>125000.000000</td>\n",
              "      <td>104.000000</td>\n",
              "      <td>82.800000</td>\n",
              "      <td>7.490000</td>\n",
              "      <td>105000.000000</td>\n",
              "    </tr>\n",
              "  </tbody>\n",
              "</table>\n",
              "</div>"
            ],
            "text/plain": [
              "       Kematian_anak      Ekspor  ...  Jumlah_fertiliti   GDPperkapita\n",
              "count     167.000000  167.000000  ...        167.000000     167.000000\n",
              "mean       38.270060   41.108976  ...          2.947964   12964.155689\n",
              "std        40.328931   27.412010  ...          1.513848   18328.704809\n",
              "min         2.600000    0.109000  ...          1.150000     231.000000\n",
              "25%         8.250000   23.800000  ...          1.795000    1330.000000\n",
              "50%        19.300000   35.000000  ...          2.410000    4660.000000\n",
              "75%        62.100000   51.350000  ...          3.880000   14050.000000\n",
              "max       208.000000  200.000000  ...          7.490000  105000.000000\n",
              "\n",
              "[8 rows x 9 columns]"
            ]
          },
          "metadata": {},
          "execution_count": 243
        }
      ]
    },
    {
      "cell_type": "markdown",
      "metadata": {
        "id": "OHCcAQnhHCe2"
      },
      "source": [
        "> **Dealing With Missing**\n",
        "*   Mengecek apakah ada kolom dan baris yang bernilai kosong atau tidak"
      ]
    },
    {
      "cell_type": "code",
      "metadata": {
        "colab": {
          "base_uri": "https://localhost:8080/"
        },
        "id": "HYPol6CSHEHC",
        "outputId": "4dcfc36d-5eb3-4e4f-a6b0-d1b6849ad74b"
      },
      "source": [
        "df.isnull().sum()"
      ],
      "execution_count": null,
      "outputs": [
        {
          "output_type": "execute_result",
          "data": {
            "text/plain": [
              "Negara              0\n",
              "Kematian_anak       0\n",
              "Ekspor              0\n",
              "Kesehatan           0\n",
              "Impor               0\n",
              "Pendapatan          0\n",
              "Inflasi             0\n",
              "Harapan_hidup       0\n",
              "Jumlah_fertiliti    0\n",
              "GDPperkapita        0\n",
              "dtype: int64"
            ]
          },
          "metadata": {},
          "execution_count": 244
        }
      ]
    },
    {
      "cell_type": "markdown",
      "metadata": {
        "id": "4Mcjha5BItAw"
      },
      "source": [
        "# Cleansing"
      ]
    },
    {
      "cell_type": "markdown",
      "metadata": {
        "id": "W3YVDOeHHQu6"
      },
      "source": [
        "> **Correlation**\n",
        "*   Menampilkan korelasi antar setiap kolom data"
      ]
    },
    {
      "cell_type": "code",
      "metadata": {
        "colab": {
          "base_uri": "https://localhost:8080/",
          "height": 873
        },
        "id": "kZaDVy03HRsc",
        "outputId": "b5920218-ece4-4799-a14e-fccee32eda1d"
      },
      "source": [
        "plt.figure(figsize=(25,15))\n",
        "sns.heatmap(df.corr(), vmin=-1 , vmax=1, annot=True, linewidths=1)"
      ],
      "execution_count": null,
      "outputs": [
        {
          "output_type": "execute_result",
          "data": {
            "text/plain": [
              "<matplotlib.axes._subplots.AxesSubplot at 0x7fa1403e3050>"
            ]
          },
          "metadata": {},
          "execution_count": 245
        },
        {
          "output_type": "display_data",
          "data": {
            "image/png": "[encoded data removed]",
            "text/plain": [
              "<Figure size 1800x1080 with 2 Axes>"
            ]
          },
          "metadata": {
            "needs_background": "light"
          }
        }
      ]
    },
    {
      "cell_type": "markdown",
      "metadata": {
        "id": "OPRhqfGUH8dI"
      },
      "source": [
        "> **Dropping Useless Column**\n",
        "*   Memilih kolom yang diperlukan dalam proses\n",
        "*   Kolom tersebut diambil dari hasil analisis pada table korelasi antar kolom\n",
        "*   Kolom tersebut diambil berdasarkan yang memiliki nilai korelasi terbesar"
      ]
    },
    {
      "cell_type": "code",
      "metadata": {
        "colab": {
          "base_uri": "https://localhost:8080/",
          "height": 415
        },
        "id": "4WD8JwE3H9XC",
        "outputId": "4cb206dc-3c02-4074-fe71-148a2cb4f221"
      },
      "source": [
        "df_new = df[['Negara','Pendapatan','GDPperkapita','Harapan_hidup','Kematian_anak']]\n",
        "df_new"
      ],
      "execution_count": null,
      "outputs": [
        {
          "output_type": "execute_result",
          "data": {
            "text/html": [
              "<div>\n",
              "<style scoped>\n",
              "    .dataframe tbody tr th:only-of-type {\n",
              "        vertical-align: middle;\n",
              "    }\n",
              "\n",
              "    .dataframe tbody tr th {\n",
              "        vertical-align: top;\n",
              "    }\n",
              "\n",
              "    .dataframe thead th {\n",
              "        text-align: right;\n",
              "    }\n",
              "</style>\n",
              "<table border=\"1\" class=\"dataframe\">\n",
              "  <thead>\n",
              "    <tr style=\"text-align: right;\">\n",
              "      <th></th>\n",
              "      <th>Negara</th>\n",
              "      <th>Pendapatan</th>\n",
              "      <th>GDPperkapita</th>\n",
              "      <th>Harapan_hidup</th>\n",
              "      <th>Kematian_anak</th>\n",
              "    </tr>\n",
              "  </thead>\n",
              "  <tbody>\n",
              "    <tr>\n",
              "      <th>0</th>\n",
              "      <td>Afghanistan</td>\n",
              "      <td>1610.0</td>\n",
              "      <td>553.0</td>\n",
              "      <td>56.2</td>\n",
              "      <td>90.2</td>\n",
              "    </tr>\n",
              "    <tr>\n",
              "      <th>1</th>\n",
              "      <td>Albania</td>\n",
              "      <td>9930.0</td>\n",
              "      <td>4090.0</td>\n",
              "      <td>76.3</td>\n",
              "      <td>16.6</td>\n",
              "    </tr>\n",
              "    <tr>\n",
              "      <th>2</th>\n",
              "      <td>Algeria</td>\n",
              "      <td>12900.0</td>\n",
              "      <td>4460.0</td>\n",
              "      <td>76.5</td>\n",
              "      <td>27.3</td>\n",
              "    </tr>\n",
              "    <tr>\n",
              "      <th>3</th>\n",
              "      <td>Angola</td>\n",
              "      <td>5900.0</td>\n",
              "      <td>3530.0</td>\n",
              "      <td>60.1</td>\n",
              "      <td>119.0</td>\n",
              "    </tr>\n",
              "    <tr>\n",
              "      <th>4</th>\n",
              "      <td>Antigua and Barbuda</td>\n",
              "      <td>19100.0</td>\n",
              "      <td>12200.0</td>\n",
              "      <td>76.8</td>\n",
              "      <td>10.3</td>\n",
              "    </tr>\n",
              "    <tr>\n",
              "      <th>...</th>\n",
              "      <td>...</td>\n",
              "      <td>...</td>\n",
              "      <td>...</td>\n",
              "      <td>...</td>\n",
              "      <td>...</td>\n",
              "    </tr>\n",
              "    <tr>\n",
              "      <th>162</th>\n",
              "      <td>Vanuatu</td>\n",
              "      <td>2950.0</td>\n",
              "      <td>2970.0</td>\n",
              "      <td>63.0</td>\n",
              "      <td>29.2</td>\n",
              "    </tr>\n",
              "    <tr>\n",
              "      <th>163</th>\n",
              "      <td>Venezuela</td>\n",
              "      <td>16500.0</td>\n",
              "      <td>13500.0</td>\n",
              "      <td>75.4</td>\n",
              "      <td>17.1</td>\n",
              "    </tr>\n",
              "    <tr>\n",
              "      <th>164</th>\n",
              "      <td>Vietnam</td>\n",
              "      <td>4490.0</td>\n",
              "      <td>1310.0</td>\n",
              "      <td>73.1</td>\n",
              "      <td>23.3</td>\n",
              "    </tr>\n",
              "    <tr>\n",
              "      <th>165</th>\n",
              "      <td>Yemen</td>\n",
              "      <td>4480.0</td>\n",
              "      <td>1310.0</td>\n",
              "      <td>67.5</td>\n",
              "      <td>56.3</td>\n",
              "    </tr>\n",
              "    <tr>\n",
              "      <th>166</th>\n",
              "      <td>Zambia</td>\n",
              "      <td>3280.0</td>\n",
              "      <td>1460.0</td>\n",
              "      <td>52.0</td>\n",
              "      <td>83.1</td>\n",
              "    </tr>\n",
              "  </tbody>\n",
              "</table>\n",
              "<p>167 rows × 5 columns</p>\n",
              "</div>"
            ],
            "text/plain": [
              "                  Negara  Pendapatan  ...  Harapan_hidup  Kematian_anak\n",
              "0            Afghanistan      1610.0  ...           56.2           90.2\n",
              "1                Albania      9930.0  ...           76.3           16.6\n",
              "2                Algeria     12900.0  ...           76.5           27.3\n",
              "3                 Angola      5900.0  ...           60.1          119.0\n",
              "4    Antigua and Barbuda     19100.0  ...           76.8           10.3\n",
              "..                   ...         ...  ...            ...            ...\n",
              "162              Vanuatu      2950.0  ...           63.0           29.2\n",
              "163            Venezuela     16500.0  ...           75.4           17.1\n",
              "164              Vietnam      4490.0  ...           73.1           23.3\n",
              "165                Yemen      4480.0  ...           67.5           56.3\n",
              "166               Zambia      3280.0  ...           52.0           83.1\n",
              "\n",
              "[167 rows x 5 columns]"
            ]
          },
          "metadata": {},
          "execution_count": 246
        }
      ]
    },
    {
      "cell_type": "markdown",
      "metadata": {
        "id": "vedDmCO2KlBR"
      },
      "source": [
        "> **Checking Outliers**\n",
        "*   Menampilkan apakah ada outlier atau tidak"
      ]
    },
    {
      "cell_type": "code",
      "metadata": {
        "colab": {
          "base_uri": "https://localhost:8080/",
          "height": 500
        },
        "id": "ilnR-YO3Kl_3",
        "outputId": "94d7e7e0-04c9-448b-c0cd-eed54fa68174"
      },
      "source": [
        "plt.figure(figsize=(15,8))\n",
        "df_new.boxplot(column=['GDPperkapita','Pendapatan'])"
      ],
      "execution_count": null,
      "outputs": [
        {
          "output_type": "execute_result",
          "data": {
            "text/plain": [
              "<matplotlib.axes._subplots.AxesSubplot at 0x7fa1409e7190>"
            ]
          },
          "metadata": {},
          "execution_count": 247
        },
        {
          "output_type": "display_data",
          "data": {
            "image/png": "[encoded data removed]",
            "text/plain": [
              "<Figure size 1080x576 with 1 Axes>"
            ]
          },
          "metadata": {
            "needs_background": "light"
          }
        }
      ]
    },
    {
      "cell_type": "code",
      "metadata": {
        "colab": {
          "base_uri": "https://localhost:8080/",
          "height": 501
        },
        "id": "p4RVFX8WK4fN",
        "outputId": "cab905b0-9671-41a3-d1aa-22375bfa2c4a"
      },
      "source": [
        "plt.figure(figsize=(15,8))\n",
        "df_new.boxplot(column=['Harapan_hidup','Kematian_anak'])"
      ],
      "execution_count": null,
      "outputs": [
        {
          "output_type": "execute_result",
          "data": {
            "text/plain": [
              "<matplotlib.axes._subplots.AxesSubplot at 0x7fa13e2934d0>"
            ]
          },
          "metadata": {},
          "execution_count": 248
        },
        {
          "output_type": "display_data",
          "data": {
            "image/png": "[encoded data removed]",
            "text/plain": [
              "<Figure size 1080x576 with 1 Axes>"
            ]
          },
          "metadata": {
            "needs_background": "light"
          }
        }
      ]
    },
    {
      "cell_type": "markdown",
      "metadata": {
        "id": "0kjOecYdLG4t"
      },
      "source": [
        "> **Handling Outliers**\n",
        "*   Menghapus outlier dari kolom yang memiliki data abnormal"
      ]
    },
    {
      "cell_type": "code",
      "metadata": {
        "id": "dMpNlOdLLQvD"
      },
      "source": [
        "def remove_outlier(df):\n",
        "    Q1 = df_new.quantile(0.25)\n",
        "    Q3 = df_new.quantile(0.75)\n",
        "    IQR = Q3-Q1\n",
        "    out = df_new[~((df_new<(Q1-(1.5*IQR))) | (df_new>(Q3+(1.5*IQR))))]\n",
        "    return out\n",
        "\n",
        "df_new = remove_outlier(df_new[['Pendapatan','GDPperkapita','Harapan_hidup','Kematian_anak']])"
      ],
      "execution_count": null,
      "outputs": []
    },
    {
      "cell_type": "code",
      "metadata": {
        "colab": {
          "base_uri": "https://localhost:8080/",
          "height": 553
        },
        "id": "Wqd-BRisLuBk",
        "outputId": "ea9a5a1e-59ae-4e53-c32f-29c75464e74e"
      },
      "source": [
        "plt.figure(figsize=(15,8))\n",
        "df_new.boxplot(column=['GDPperkapita','Pendapatan'])"
      ],
      "execution_count": null,
      "outputs": [
        {
          "output_type": "stream",
          "name": "stderr",
          "text": [
            "/usr/local/lib/python3.7/dist-packages/numpy/core/_asarray.py:83: VisibleDeprecationWarning: Creating an ndarray from ragged nested sequences (which is a list-or-tuple of lists-or-tuples-or ndarrays with different lengths or shapes) is deprecated. If you meant to do this, you must specify 'dtype=object' when creating the ndarray\n",
            "  return array(a, dtype, copy=False, order=order)\n"
          ]
        },
        {
          "output_type": "execute_result",
          "data": {
            "text/plain": [
              "<matplotlib.axes._subplots.AxesSubplot at 0x7fa13da52410>"
            ]
          },
          "metadata": {},
          "execution_count": 250
        },
        {
          "output_type": "display_data",
          "data": {
            "image/png": "[encoded data removed]",
            "text/plain": [
              "<Figure size 1080x576 with 1 Axes>"
            ]
          },
          "metadata": {
            "needs_background": "light"
          }
        }
      ]
    },
    {
      "cell_type": "code",
      "metadata": {
        "colab": {
          "base_uri": "https://localhost:8080/",
          "height": 554
        },
        "id": "d76PEJ_MMRpw",
        "outputId": "c051c878-5f22-4ce3-b5fe-c583300d9ca9"
      },
      "source": [
        "plt.figure(figsize=(15,8))\n",
        "df_new.boxplot(column=['Harapan_hidup','Kematian_anak'])"
      ],
      "execution_count": null,
      "outputs": [
        {
          "output_type": "stream",
          "name": "stderr",
          "text": [
            "/usr/local/lib/python3.7/dist-packages/numpy/core/_asarray.py:83: VisibleDeprecationWarning: Creating an ndarray from ragged nested sequences (which is a list-or-tuple of lists-or-tuples-or ndarrays with different lengths or shapes) is deprecated. If you meant to do this, you must specify 'dtype=object' when creating the ndarray\n",
            "  return array(a, dtype, copy=False, order=order)\n"
          ]
        },
        {
          "output_type": "execute_result",
          "data": {
            "text/plain": [
              "<matplotlib.axes._subplots.AxesSubplot at 0x7fa13e19d190>"
            ]
          },
          "metadata": {},
          "execution_count": 251
        },
        {
          "output_type": "display_data",
          "data": {
            "image/png": "[encoded data removed]",
            "text/plain": [
              "<Figure size 1080x576 with 1 Axes>"
            ]
          },
          "metadata": {
            "needs_background": "light"
          }
        }
      ]
    },
    {
      "cell_type": "markdown",
      "metadata": {
        "id": "ct9hcGbfPOPV"
      },
      "source": [
        "# Exploration"
      ]
    },
    {
      "cell_type": "markdown",
      "metadata": {
        "id": "g4biytgFP6Re"
      },
      "source": [
        "> *Plotting Data*\n",
        "*   Menampilkan plot setiap nilai data yang berada pada kolom"
      ]
    },
    {
      "cell_type": "code",
      "metadata": {
        "colab": {
          "base_uri": "https://localhost:8080/",
          "height": 726
        },
        "id": "MXuqI1CzPes0",
        "outputId": "e36ea123-836d-4808-b841-0f402180e81d"
      },
      "source": [
        "sns.pairplot(data= df_new, vars=['Kematian_anak','GDPperkapita','Harapan_hidup','Pendapatan'])\n",
        "plt.show()"
      ],
      "execution_count": null,
      "outputs": [
        {
          "output_type": "display_data",
          "data": {
            "image/png": "[encoded data removed]",
            "text/plain": [
              "<Figure size 720x720 with 20 Axes>"
            ]
          },
          "metadata": {
            "needs_background": "light"
          }
        }
      ]
    },
    {
      "cell_type": "markdown",
      "metadata": {
        "id": "69MkYsZbOEVI"
      },
      "source": [
        "> *Feature Engineering*\n",
        "*   Untuk melakukan normalisasi"
      ]
    },
    {
      "cell_type": "code",
      "metadata": {
        "id": "VcqzSS0UOHKJ"
      },
      "source": [
        "def normalize(x):\n",
        "    return (x - x.min())/(x.max() - x.min())\n",
        "\n",
        "df_new['Pendapatan'] = df_new[['Pendapatan']].apply(normalize)\n",
        "df_new['GDPperkapita'] = df_new[['GDPperkapita']].apply(normalize)\n",
        "df_new['Harapan_hidup'] = df_new[['Harapan_hidup']].apply(normalize)\n",
        "df_new['Kematian_anak'] = df_new[['Kematian_anak']].apply(normalize)"
      ],
      "execution_count": null,
      "outputs": []
    },
    {
      "cell_type": "markdown",
      "metadata": {
        "id": "VASGPy3LRv1M"
      },
      "source": [
        "> **Variable Identification**\n",
        "*   Menampilkan info tipe data setiap kolom"
      ]
    },
    {
      "cell_type": "code",
      "metadata": {
        "colab": {
          "base_uri": "https://localhost:8080/"
        },
        "id": "lMNwRs_TRwst",
        "outputId": "ce4cf181-b0b4-4161-d3bb-33a47691c632"
      },
      "source": [
        "df_new.info()"
      ],
      "execution_count": null,
      "outputs": [
        {
          "output_type": "stream",
          "name": "stdout",
          "text": [
            "<class 'pandas.core.frame.DataFrame'>\n",
            "RangeIndex: 167 entries, 0 to 166\n",
            "Data columns (total 5 columns):\n",
            " #   Column         Non-Null Count  Dtype  \n",
            "---  ------         --------------  -----  \n",
            " 0   Negara         167 non-null    object \n",
            " 1   Pendapatan     159 non-null    float64\n",
            " 2   GDPperkapita   142 non-null    float64\n",
            " 3   Harapan_hidup  164 non-null    float64\n",
            " 4   Kematian_anak  163 non-null    float64\n",
            "dtypes: float64(4), object(1)\n",
            "memory usage: 6.6+ KB\n"
          ]
        }
      ]
    },
    {
      "cell_type": "markdown",
      "metadata": {
        "id": "OT3y7axPR6M8"
      },
      "source": [
        "> **Dealing With Missing**\n",
        "*   Mengecek apakah ada kolom dan baris yang bernilai kosong atau tidak\n",
        "*   Dropping duplicates/ delete missing value"
      ]
    },
    {
      "cell_type": "code",
      "metadata": {
        "colab": {
          "base_uri": "https://localhost:8080/"
        },
        "id": "QF1Ub6oiR6-P",
        "outputId": "dc3bcad7-81ed-4c01-89a1-2d3ce1842a48"
      },
      "source": [
        "df_new.isnull().sum()"
      ],
      "execution_count": null,
      "outputs": [
        {
          "output_type": "execute_result",
          "data": {
            "text/plain": [
              "Negara            0\n",
              "Pendapatan        8\n",
              "GDPperkapita     25\n",
              "Harapan_hidup     3\n",
              "Kematian_anak     4\n",
              "dtype: int64"
            ]
          },
          "metadata": {},
          "execution_count": 255
        }
      ]
    },
    {
      "cell_type": "code",
      "metadata": {
        "colab": {
          "base_uri": "https://localhost:8080/"
        },
        "id": "D0K10uP-SLAz",
        "outputId": "9588955f-7703-4048-db61-7954da4c57f9"
      },
      "source": [
        "df_new.dropna(inplace = True)\n",
        "df_new.isnull().sum()"
      ],
      "execution_count": null,
      "outputs": [
        {
          "output_type": "execute_result",
          "data": {
            "text/plain": [
              "Negara           0\n",
              "Pendapatan       0\n",
              "GDPperkapita     0\n",
              "Harapan_hidup    0\n",
              "Kematian_anak    0\n",
              "dtype: int64"
            ]
          },
          "metadata": {},
          "execution_count": 256
        }
      ]
    },
    {
      "cell_type": "markdown",
      "metadata": {
        "id": "NAkT6JW6SkA8"
      },
      "source": [
        "# Clustering"
      ]
    },
    {
      "cell_type": "markdown",
      "metadata": {
        "id": "wH5URSoWReXQ"
      },
      "source": [
        "> **MEMBUAT FILE CSV**\n",
        "*   File yang berisi kolom yang diperlukan"
      ]
    },
    {
      "cell_type": "code",
      "metadata": {
        "colab": {
          "base_uri": "https://localhost:8080/",
          "height": 17
        },
        "id": "HQ0lsfAuRd8W",
        "outputId": "b5c3f324-3740-47de-a474-d6de14dd6dad"
      },
      "source": [
        "df_new.to_csv('data_terbaru.csv', index=False)\n",
        "data = pd.read_csv('data_terbaru.csv')\n",
        "files.download('data_terbaru.csv')"
      ],
      "execution_count": null,
      "outputs": [
        {
          "output_type": "display_data",
          "data": {
            "application/javascript": [
              "\n",
              "    async function download(id, filename, size) {\n",
              "      if (!google.colab.kernel.accessAllowed) {\n",
              "        return;\n",
              "      }\n",
              "      const div = document.createElement('div');\n",
              "      const label = document.createElement('label');\n",
              "      label.textContent = `Downloading \"${filename}\": `;\n",
              "      div.appendChild(label);\n",
              "      const progress = document.createElement('progress');\n",
              "      progress.max = size;\n",
              "      div.appendChild(progress);\n",
              "      document.body.appendChild(div);\n",
              "\n",
              "      const buffers = [];\n",
              "      let downloaded = 0;\n",
              "\n",
              "      const channel = await google.colab.kernel.comms.open(id);\n",
              "      // Send a message to notify the kernel that we're ready.\n",
              "      channel.send({})\n",
              "\n",
              "      for await (const message of channel.messages) {\n",
              "        // Send a message to notify the kernel that we're ready.\n",
              "        channel.send({})\n",
              "        if (message.buffers) {\n",
              "          for (const buffer of message.buffers) {\n",
              "            buffers.push(buffer);\n",
              "            downloaded += buffer.byteLength;\n",
              "            progress.value = downloaded;\n",
              "          }\n",
              "        }\n",
              "      }\n",
              "      const blob = new Blob(buffers, {type: 'application/binary'});\n",
              "      const a = document.createElement('a');\n",
              "      a.href = window.URL.createObjectURL(blob);\n",
              "      a.download = filename;\n",
              "      div.appendChild(a);\n",
              "      a.click();\n",
              "      div.remove();\n",
              "    }\n",
              "  "
            ],
            "text/plain": [
              "<IPython.core.display.Javascript object>"
            ]
          },
          "metadata": {}
        },
        {
          "output_type": "display_data",
          "data": {
            "application/javascript": [
              "download(\"download_3af2e2fc-450c-4831-ba01-c8af0f9d887b\", \"data_terbaru.csv\", 11988)"
            ],
            "text/plain": [
              "<IPython.core.display.Javascript object>"
            ]
          },
          "metadata": {}
        }
      ]
    },
    {
      "cell_type": "markdown",
      "metadata": {
        "id": "ksgEHcOtYQ9w"
      },
      "source": [
        "> **Proses Clustering**\n",
        "*   Proses ini menggunakan K-Means\n",
        "*   Proses ini menggunakan metode elbow"
      ]
    },
    {
      "cell_type": "markdown",
      "metadata": {
        "id": "WZM7U2qjYpwT"
      },
      "source": [
        "***Model 1 (Pendapatan dan GDPperkapita)***"
      ]
    },
    {
      "cell_type": "code",
      "metadata": {
        "colab": {
          "base_uri": "https://localhost:8080/",
          "height": 415
        },
        "id": "_h3Vi0C7NCCx",
        "outputId": "3c9f6cd1-b823-401e-e21d-22a0e3f21e2f"
      },
      "source": [
        "data1 = data[['Negara','Pendapatan','GDPperkapita']]\n",
        "data1"
      ],
      "execution_count": null,
      "outputs": [
        {
          "output_type": "execute_result",
          "data": {
            "text/html": [
              "<div>\n",
              "<style scoped>\n",
              "    .dataframe tbody tr th:only-of-type {\n",
              "        vertical-align: middle;\n",
              "    }\n",
              "\n",
              "    .dataframe tbody tr th {\n",
              "        vertical-align: top;\n",
              "    }\n",
              "\n",
              "    .dataframe thead th {\n",
              "        text-align: right;\n",
              "    }\n",
              "</style>\n",
              "<table border=\"1\" class=\"dataframe\">\n",
              "  <thead>\n",
              "    <tr style=\"text-align: right;\">\n",
              "      <th></th>\n",
              "      <th>Negara</th>\n",
              "      <th>Pendapatan</th>\n",
              "      <th>GDPperkapita</th>\n",
              "    </tr>\n",
              "  </thead>\n",
              "  <tbody>\n",
              "    <tr>\n",
              "      <th>0</th>\n",
              "      <td>Afghanistan</td>\n",
              "      <td>0.020516</td>\n",
              "      <td>0.010534</td>\n",
              "    </tr>\n",
              "    <tr>\n",
              "      <th>1</th>\n",
              "      <td>Albania</td>\n",
              "      <td>0.191039</td>\n",
              "      <td>0.126239</td>\n",
              "    </tr>\n",
              "    <tr>\n",
              "      <th>2</th>\n",
              "      <td>Algeria</td>\n",
              "      <td>0.251911</td>\n",
              "      <td>0.138343</td>\n",
              "    </tr>\n",
              "    <tr>\n",
              "      <th>3</th>\n",
              "      <td>Angola</td>\n",
              "      <td>0.108442</td>\n",
              "      <td>0.107920</td>\n",
              "    </tr>\n",
              "    <tr>\n",
              "      <th>4</th>\n",
              "      <td>Antigua and Barbuda</td>\n",
              "      <td>0.378984</td>\n",
              "      <td>0.391540</td>\n",
              "    </tr>\n",
              "    <tr>\n",
              "      <th>...</th>\n",
              "      <td>...</td>\n",
              "      <td>...</td>\n",
              "      <td>...</td>\n",
              "    </tr>\n",
              "    <tr>\n",
              "      <th>132</th>\n",
              "      <td>Vanuatu</td>\n",
              "      <td>0.047980</td>\n",
              "      <td>0.089601</td>\n",
              "    </tr>\n",
              "    <tr>\n",
              "      <th>133</th>\n",
              "      <td>Venezuela</td>\n",
              "      <td>0.325695</td>\n",
              "      <td>0.434067</td>\n",
              "    </tr>\n",
              "    <tr>\n",
              "      <th>134</th>\n",
              "      <td>Vietnam</td>\n",
              "      <td>0.079543</td>\n",
              "      <td>0.035297</td>\n",
              "    </tr>\n",
              "    <tr>\n",
              "      <th>135</th>\n",
              "      <td>Yemen</td>\n",
              "      <td>0.079338</td>\n",
              "      <td>0.035297</td>\n",
              "    </tr>\n",
              "    <tr>\n",
              "      <th>136</th>\n",
              "      <td>Zambia</td>\n",
              "      <td>0.054744</td>\n",
              "      <td>0.040204</td>\n",
              "    </tr>\n",
              "  </tbody>\n",
              "</table>\n",
              "<p>137 rows × 3 columns</p>\n",
              "</div>"
            ],
            "text/plain": [
              "                  Negara  Pendapatan  GDPperkapita\n",
              "0            Afghanistan    0.020516      0.010534\n",
              "1                Albania    0.191039      0.126239\n",
              "2                Algeria    0.251911      0.138343\n",
              "3                 Angola    0.108442      0.107920\n",
              "4    Antigua and Barbuda    0.378984      0.391540\n",
              "..                   ...         ...           ...\n",
              "132              Vanuatu    0.047980      0.089601\n",
              "133            Venezuela    0.325695      0.434067\n",
              "134              Vietnam    0.079543      0.035297\n",
              "135                Yemen    0.079338      0.035297\n",
              "136               Zambia    0.054744      0.040204\n",
              "\n",
              "[137 rows x 3 columns]"
            ]
          },
          "metadata": {},
          "execution_count": 259
        }
      ]
    },
    {
      "cell_type": "markdown",
      "metadata": {
        "id": "_sidKH4CYxj9"
      },
      "source": [
        "*   Mencari 'optimal number of cluster' berdasarkan nilai-nilai inersia\n",
        "\n"
      ]
    },
    {
      "cell_type": "code",
      "metadata": {
        "colab": {
          "base_uri": "https://localhost:8080/",
          "height": 513
        },
        "id": "RkMn557UY1Mk",
        "outputId": "8473061e-cba6-47d2-cfa7-8393b48df31d"
      },
      "source": [
        "wcss1 = []\n",
        "for i in range(1,11):\n",
        "    kmeans = KMeans(n_clusters = i,init='k-means++',random_state=42)\n",
        "    kmeans.fit(data1[['Pendapatan','GDPperkapita']])\n",
        "    wcss1.append(kmeans.inertia_)\n",
        "    \n",
        "fig, ax = plt.subplots(figsize=(12,8))\n",
        "ax.plot(range(1,11),wcss1)\n",
        "ax.set_xlabel('Number of clusters')\n",
        "ax.set_ylabel('WCSS')\n",
        "ax.set_title('The Elbow Method')\n",
        "plt.show()"
      ],
      "execution_count": null,
      "outputs": [
        {
          "output_type": "display_data",
          "data": {
            "image/png": "[encoded data removed]",
            "text/plain": [
              "<Figure size 864x576 with 1 Axes>"
            ]
          },
          "metadata": {
            "needs_background": "light"
          }
        }
      ]
    },
    {
      "cell_type": "markdown",
      "metadata": {
        "id": "UPJ8FamkZVp1"
      },
      "source": [
        "*   Melakukan proses eliminasi 'optimal number of cluster' "
      ]
    },
    {
      "cell_type": "code",
      "metadata": {
        "colab": {
          "base_uri": "https://localhost:8080/"
        },
        "id": "GJH-dANSZa4f",
        "outputId": "6f4c6a60-2612-4117-c90a-52f2ee26de02"
      },
      "source": [
        "# n_cluster = 2\n",
        "kmeans1 = KMeans(n_clusters=2,random_state=42).fit(data1[['Pendapatan','GDPperkapita']])\n",
        "labels1 = kmeans1.labels_\n",
        "data1['n_cluster = 2'] = labels1\n",
        "\n",
        "# n_cluster = 3\n",
        "kmeans2 = KMeans(n_clusters=3,random_state=42).fit(data1[['Pendapatan','GDPperkapita']])\n",
        "labels2 = kmeans2.labels_\n",
        "data1['n_cluster = 3'] = labels2\n",
        "\n",
        "# n_cluster = 4\n",
        "kmeans3 = KMeans(n_clusters=4,random_state=42).fit(data1[['Pendapatan','GDPperkapita']])\n",
        "labels3 = kmeans3.labels_\n",
        "data1['n_cluster = 4'] = labels3\n",
        "\n",
        "# Pengecekan number of clustering yang memiliki score paling besar\n",
        "print('k = 2 :',silhouette_score(data1[['Pendapatan','GDPperkapita']],labels1))\n",
        "print('k = 3 :',silhouette_score(data1[['Pendapatan','GDPperkapita']],labels2))\n",
        "print('k = 4 :',silhouette_score(data1[['Pendapatan','GDPperkapita']],labels3))"
      ],
      "execution_count": null,
      "outputs": [
        {
          "output_type": "stream",
          "name": "stdout",
          "text": [
            "k = 2 : 0.6523009957201145\n",
            "k = 3 : 0.608203189183546\n",
            "k = 4 : 0.565769136130431\n"
          ]
        },
        {
          "output_type": "stream",
          "name": "stderr",
          "text": [
            "/usr/local/lib/python3.7/dist-packages/ipykernel_launcher.py:4: SettingWithCopyWarning: \n",
            "A value is trying to be set on a copy of a slice from a DataFrame.\n",
            "Try using .loc[row_indexer,col_indexer] = value instead\n",
            "\n",
            "See the caveats in the documentation: https://pandas.pydata.org/pandas-docs/stable/user_guide/indexing.html#returning-a-view-versus-a-copy\n",
            "  after removing the cwd from sys.path.\n"
          ]
        }
      ]
    },
    {
      "cell_type": "markdown",
      "metadata": {
        "id": "DGUZDI9EcaIN"
      },
      "source": [
        "\n",
        "\n",
        "*   Melakukan proses visualisasi data\n",
        "\n"
      ]
    },
    {
      "cell_type": "code",
      "metadata": {
        "colab": {
          "base_uri": "https://localhost:8080/",
          "height": 415
        },
        "id": "uXdsrggpcfIi",
        "outputId": "c3487799-cbf4-424b-fc58-562fbfbe9e70"
      },
      "source": [
        "data1 = data1.drop(columns=['n_cluster = 3', 'n_cluster = 4'])\n",
        "data1"
      ],
      "execution_count": null,
      "outputs": [
        {
          "output_type": "execute_result",
          "data": {
            "text/html": [
              "<div>\n",
              "<style scoped>\n",
              "    .dataframe tbody tr th:only-of-type {\n",
              "        vertical-align: middle;\n",
              "    }\n",
              "\n",
              "    .dataframe tbody tr th {\n",
              "        vertical-align: top;\n",
              "    }\n",
              "\n",
              "    .dataframe thead th {\n",
              "        text-align: right;\n",
              "    }\n",
              "</style>\n",
              "<table border=\"1\" class=\"dataframe\">\n",
              "  <thead>\n",
              "    <tr style=\"text-align: right;\">\n",
              "      <th></th>\n",
              "      <th>Negara</th>\n",
              "      <th>Pendapatan</th>\n",
              "      <th>GDPperkapita</th>\n",
              "      <th>n_cluster = 2</th>\n",
              "    </tr>\n",
              "  </thead>\n",
              "  <tbody>\n",
              "    <tr>\n",
              "      <th>0</th>\n",
              "      <td>Afghanistan</td>\n",
              "      <td>0.020516</td>\n",
              "      <td>0.010534</td>\n",
              "      <td>1</td>\n",
              "    </tr>\n",
              "    <tr>\n",
              "      <th>1</th>\n",
              "      <td>Albania</td>\n",
              "      <td>0.191039</td>\n",
              "      <td>0.126239</td>\n",
              "      <td>1</td>\n",
              "    </tr>\n",
              "    <tr>\n",
              "      <th>2</th>\n",
              "      <td>Algeria</td>\n",
              "      <td>0.251911</td>\n",
              "      <td>0.138343</td>\n",
              "      <td>1</td>\n",
              "    </tr>\n",
              "    <tr>\n",
              "      <th>3</th>\n",
              "      <td>Angola</td>\n",
              "      <td>0.108442</td>\n",
              "      <td>0.107920</td>\n",
              "      <td>1</td>\n",
              "    </tr>\n",
              "    <tr>\n",
              "      <th>4</th>\n",
              "      <td>Antigua and Barbuda</td>\n",
              "      <td>0.378984</td>\n",
              "      <td>0.391540</td>\n",
              "      <td>0</td>\n",
              "    </tr>\n",
              "    <tr>\n",
              "      <th>...</th>\n",
              "      <td>...</td>\n",
              "      <td>...</td>\n",
              "      <td>...</td>\n",
              "      <td>...</td>\n",
              "    </tr>\n",
              "    <tr>\n",
              "      <th>132</th>\n",
              "      <td>Vanuatu</td>\n",
              "      <td>0.047980</td>\n",
              "      <td>0.089601</td>\n",
              "      <td>1</td>\n",
              "    </tr>\n",
              "    <tr>\n",
              "      <th>133</th>\n",
              "      <td>Venezuela</td>\n",
              "      <td>0.325695</td>\n",
              "      <td>0.434067</td>\n",
              "      <td>0</td>\n",
              "    </tr>\n",
              "    <tr>\n",
              "      <th>134</th>\n",
              "      <td>Vietnam</td>\n",
              "      <td>0.079543</td>\n",
              "      <td>0.035297</td>\n",
              "      <td>1</td>\n",
              "    </tr>\n",
              "    <tr>\n",
              "      <th>135</th>\n",
              "      <td>Yemen</td>\n",
              "      <td>0.079338</td>\n",
              "      <td>0.035297</td>\n",
              "      <td>1</td>\n",
              "    </tr>\n",
              "    <tr>\n",
              "      <th>136</th>\n",
              "      <td>Zambia</td>\n",
              "      <td>0.054744</td>\n",
              "      <td>0.040204</td>\n",
              "      <td>1</td>\n",
              "    </tr>\n",
              "  </tbody>\n",
              "</table>\n",
              "<p>137 rows × 4 columns</p>\n",
              "</div>"
            ],
            "text/plain": [
              "                  Negara  Pendapatan  GDPperkapita  n_cluster = 2\n",
              "0            Afghanistan    0.020516      0.010534              1\n",
              "1                Albania    0.191039      0.126239              1\n",
              "2                Algeria    0.251911      0.138343              1\n",
              "3                 Angola    0.108442      0.107920              1\n",
              "4    Antigua and Barbuda    0.378984      0.391540              0\n",
              "..                   ...         ...           ...            ...\n",
              "132              Vanuatu    0.047980      0.089601              1\n",
              "133            Venezuela    0.325695      0.434067              0\n",
              "134              Vietnam    0.079543      0.035297              1\n",
              "135                Yemen    0.079338      0.035297              1\n",
              "136               Zambia    0.054744      0.040204              1\n",
              "\n",
              "[137 rows x 4 columns]"
            ]
          },
          "metadata": {},
          "execution_count": 262
        }
      ]
    },
    {
      "cell_type": "code",
      "metadata": {
        "colab": {
          "base_uri": "https://localhost:8080/",
          "height": 497
        },
        "id": "mqPhwDeOcuCW",
        "outputId": "9b3ca3d0-eb1a-4d1d-c6d4-0a0dc4dbf042"
      },
      "source": [
        "fig, ax = plt.subplots(figsize=(12,8))\n",
        "ax.scatter(data1['Pendapatan'][data1['n_cluster = 2'] == 0],data1['GDPperkapita'][data1['n_cluster = 2'] == 0],c='red',s=90,edgecolor='green')\n",
        "ax.scatter(data1['Pendapatan'][data1['n_cluster = 2'] == 1],data1['GDPperkapita'][data1['n_cluster = 2'] == 1],c='orange',s=90,edgecolor='green')\n",
        "ax.set_xlabel('Pendapatan')\n",
        "ax.set_ylabel('GDPperkapita')\n",
        "centers = kmeans1.cluster_centers_\n",
        "ax.scatter(centers[:,0],centers[:,1],c='black',s=500)\n",
        "plt.show()"
      ],
      "execution_count": null,
      "outputs": [
        {
          "output_type": "display_data",
          "data": {
            "image/png": "[encoded data removed]",
            "text/plain": [
              "<Figure size 864x576 with 1 Axes>"
            ]
          },
          "metadata": {
            "needs_background": "light"
          }
        }
      ]
    },
    {
      "cell_type": "markdown",
      "metadata": {
        "id": "Nbv0yLEodg1H"
      },
      "source": [
        "***Model 2 (Kematian Anak dan Harapan Hidup)***"
      ]
    },
    {
      "cell_type": "code",
      "metadata": {
        "colab": {
          "base_uri": "https://localhost:8080/",
          "height": 415
        },
        "id": "KIQEbTxpdnIs",
        "outputId": "05dbe026-8b12-4aef-cec1-bf02d90b4896"
      },
      "source": [
        "data2 = data[['Negara', 'Kematian_anak', 'Harapan_hidup']]\n",
        "data2"
      ],
      "execution_count": null,
      "outputs": [
        {
          "output_type": "execute_result",
          "data": {
            "text/html": [
              "<div>\n",
              "<style scoped>\n",
              "    .dataframe tbody tr th:only-of-type {\n",
              "        vertical-align: middle;\n",
              "    }\n",
              "\n",
              "    .dataframe tbody tr th {\n",
              "        vertical-align: top;\n",
              "    }\n",
              "\n",
              "    .dataframe thead th {\n",
              "        text-align: right;\n",
              "    }\n",
              "</style>\n",
              "<table border=\"1\" class=\"dataframe\">\n",
              "  <thead>\n",
              "    <tr style=\"text-align: right;\">\n",
              "      <th></th>\n",
              "      <th>Negara</th>\n",
              "      <th>Kematian_anak</th>\n",
              "      <th>Harapan_hidup</th>\n",
              "    </tr>\n",
              "  </thead>\n",
              "  <tbody>\n",
              "    <tr>\n",
              "      <th>0</th>\n",
              "      <td>Afghanistan</td>\n",
              "      <td>0.651786</td>\n",
              "      <td>0.136364</td>\n",
              "    </tr>\n",
              "    <tr>\n",
              "      <th>1</th>\n",
              "      <td>Albania</td>\n",
              "      <td>0.104167</td>\n",
              "      <td>0.788961</td>\n",
              "    </tr>\n",
              "    <tr>\n",
              "      <th>2</th>\n",
              "      <td>Algeria</td>\n",
              "      <td>0.183780</td>\n",
              "      <td>0.795455</td>\n",
              "    </tr>\n",
              "    <tr>\n",
              "      <th>3</th>\n",
              "      <td>Angola</td>\n",
              "      <td>0.866071</td>\n",
              "      <td>0.262987</td>\n",
              "    </tr>\n",
              "    <tr>\n",
              "      <th>4</th>\n",
              "      <td>Antigua and Barbuda</td>\n",
              "      <td>0.057292</td>\n",
              "      <td>0.805195</td>\n",
              "    </tr>\n",
              "    <tr>\n",
              "      <th>...</th>\n",
              "      <td>...</td>\n",
              "      <td>...</td>\n",
              "      <td>...</td>\n",
              "    </tr>\n",
              "    <tr>\n",
              "      <th>132</th>\n",
              "      <td>Vanuatu</td>\n",
              "      <td>0.197917</td>\n",
              "      <td>0.357143</td>\n",
              "    </tr>\n",
              "    <tr>\n",
              "      <th>133</th>\n",
              "      <td>Venezuela</td>\n",
              "      <td>0.107887</td>\n",
              "      <td>0.759740</td>\n",
              "    </tr>\n",
              "    <tr>\n",
              "      <th>134</th>\n",
              "      <td>Vietnam</td>\n",
              "      <td>0.154018</td>\n",
              "      <td>0.685065</td>\n",
              "    </tr>\n",
              "    <tr>\n",
              "      <th>135</th>\n",
              "      <td>Yemen</td>\n",
              "      <td>0.399554</td>\n",
              "      <td>0.503247</td>\n",
              "    </tr>\n",
              "    <tr>\n",
              "      <th>136</th>\n",
              "      <td>Zambia</td>\n",
              "      <td>0.598958</td>\n",
              "      <td>0.000000</td>\n",
              "    </tr>\n",
              "  </tbody>\n",
              "</table>\n",
              "<p>137 rows × 3 columns</p>\n",
              "</div>"
            ],
            "text/plain": [
              "                  Negara  Kematian_anak  Harapan_hidup\n",
              "0            Afghanistan       0.651786       0.136364\n",
              "1                Albania       0.104167       0.788961\n",
              "2                Algeria       0.183780       0.795455\n",
              "3                 Angola       0.866071       0.262987\n",
              "4    Antigua and Barbuda       0.057292       0.805195\n",
              "..                   ...            ...            ...\n",
              "132              Vanuatu       0.197917       0.357143\n",
              "133            Venezuela       0.107887       0.759740\n",
              "134              Vietnam       0.154018       0.685065\n",
              "135                Yemen       0.399554       0.503247\n",
              "136               Zambia       0.598958       0.000000\n",
              "\n",
              "[137 rows x 3 columns]"
            ]
          },
          "metadata": {},
          "execution_count": 264
        }
      ]
    },
    {
      "cell_type": "markdown",
      "metadata": {
        "id": "Qg6XWYIheB3K"
      },
      "source": [
        "*   Mencari 'optimal number of cluster' berdasarkan nilai-nilai inersia"
      ]
    },
    {
      "cell_type": "code",
      "metadata": {
        "colab": {
          "base_uri": "https://localhost:8080/",
          "height": 513
        },
        "id": "MusJc3ZNeFqB",
        "outputId": "73cfa1bd-6a85-4f6b-ddd2-b16106a93b65"
      },
      "source": [
        "wcss2 = []\n",
        "for i in range(1,11):\n",
        "    kmeans11 = KMeans(n_clusters = i,init='k-means++',random_state=42)\n",
        "    kmeans11.fit(data2[['Kematian_anak','Harapan_hidup']])\n",
        "    wcss2.append(kmeans11.inertia_)\n",
        "    \n",
        "fig, ax = plt.subplots(figsize=(12,8))\n",
        "ax.plot(range(1,11),wcss2)\n",
        "ax.set_xlabel('Number of clusters')\n",
        "ax.set_ylabel('WCSS')\n",
        "ax.set_title('The Elbow Method')\n",
        "plt.show()"
      ],
      "execution_count": null,
      "outputs": [
        {
          "output_type": "display_data",
          "data": {
            "image/png": "[encoded data removed]",
            "text/plain": [
              "<Figure size 864x576 with 1 Axes>"
            ]
          },
          "metadata": {
            "needs_background": "light"
          }
        }
      ]
    },
    {
      "cell_type": "markdown",
      "metadata": {
        "id": "Mc_KzE4Kem9W"
      },
      "source": [
        "*   Melakukan proses eliminasi 'optimal number of cluster' "
      ]
    },
    {
      "cell_type": "code",
      "metadata": {
        "colab": {
          "base_uri": "https://localhost:8080/"
        },
        "id": "oQmku6GceoVI",
        "outputId": "2939d4a7-581c-47b8-984c-df80df38d3b3"
      },
      "source": [
        "# n_clustering = 2\n",
        "kmeans4 = KMeans(n_clusters=2,random_state=42).fit(data2[['Kematian_anak','Harapan_hidup']])\n",
        "labels4= kmeans4.labels_\n",
        "data2['n_cluster = 2'] = labels4\n",
        "\n",
        "# n_clustering = 3\n",
        "kmeans5 = KMeans(n_clusters=3,random_state=42).fit(data2[['Kematian_anak','Harapan_hidup']])\n",
        "labels5= kmeans5.labels_\n",
        "data2['n_cluster = 3'] = labels5\n",
        "\n",
        "# n_clustering = 4\n",
        "kmeans6 = KMeans(n_clusters=4,random_state=42).fit(data2[['Kematian_anak','Harapan_hidup']])\n",
        "labels6= kmeans6.labels_\n",
        "data2['n_cluster = 4'] = labels6\n",
        "\n",
        "# Pengecekan number of clustering yang memiliki score paling besar\n",
        "print('k = 2 :',silhouette_score(data2[['Kematian_anak', 'Harapan_hidup']],labels4))\n",
        "print('k = 3 :',silhouette_score(data2[['Kematian_anak', 'Harapan_hidup']],labels5))\n",
        "print('k = 4 :',silhouette_score(data2[['Kematian_anak', 'Harapan_hidup']],labels6))"
      ],
      "execution_count": null,
      "outputs": [
        {
          "output_type": "stream",
          "name": "stdout",
          "text": [
            "k = 2 : 0.6315406283848367\n",
            "k = 3 : 0.5370572352975652\n",
            "k = 4 : 0.47639644284863786\n"
          ]
        },
        {
          "output_type": "stream",
          "name": "stderr",
          "text": [
            "/usr/local/lib/python3.7/dist-packages/ipykernel_launcher.py:4: SettingWithCopyWarning: \n",
            "A value is trying to be set on a copy of a slice from a DataFrame.\n",
            "Try using .loc[row_indexer,col_indexer] = value instead\n",
            "\n",
            "See the caveats in the documentation: https://pandas.pydata.org/pandas-docs/stable/user_guide/indexing.html#returning-a-view-versus-a-copy\n",
            "  after removing the cwd from sys.path.\n"
          ]
        }
      ]
    },
    {
      "cell_type": "markdown",
      "metadata": {
        "id": "w1O7j-z5erk7"
      },
      "source": [
        "*   Melakukan proses visualisasi data"
      ]
    },
    {
      "cell_type": "code",
      "metadata": {
        "colab": {
          "base_uri": "https://localhost:8080/",
          "height": 415
        },
        "id": "S3ta1bhefmk3",
        "outputId": "accea7ac-a7ec-4ee2-df72-edd940b71197"
      },
      "source": [
        "data2 = data2.drop(columns=['n_cluster = 3', 'n_cluster = 4'])\n",
        "data2"
      ],
      "execution_count": null,
      "outputs": [
        {
          "output_type": "execute_result",
          "data": {
            "text/html": [
              "<div>\n",
              "<style scoped>\n",
              "    .dataframe tbody tr th:only-of-type {\n",
              "        vertical-align: middle;\n",
              "    }\n",
              "\n",
              "    .dataframe tbody tr th {\n",
              "        vertical-align: top;\n",
              "    }\n",
              "\n",
              "    .dataframe thead th {\n",
              "        text-align: right;\n",
              "    }\n",
              "</style>\n",
              "<table border=\"1\" class=\"dataframe\">\n",
              "  <thead>\n",
              "    <tr style=\"text-align: right;\">\n",
              "      <th></th>\n",
              "      <th>Negara</th>\n",
              "      <th>Kematian_anak</th>\n",
              "      <th>Harapan_hidup</th>\n",
              "      <th>n_cluster = 2</th>\n",
              "    </tr>\n",
              "  </thead>\n",
              "  <tbody>\n",
              "    <tr>\n",
              "      <th>0</th>\n",
              "      <td>Afghanistan</td>\n",
              "      <td>0.651786</td>\n",
              "      <td>0.136364</td>\n",
              "      <td>0</td>\n",
              "    </tr>\n",
              "    <tr>\n",
              "      <th>1</th>\n",
              "      <td>Albania</td>\n",
              "      <td>0.104167</td>\n",
              "      <td>0.788961</td>\n",
              "      <td>1</td>\n",
              "    </tr>\n",
              "    <tr>\n",
              "      <th>2</th>\n",
              "      <td>Algeria</td>\n",
              "      <td>0.183780</td>\n",
              "      <td>0.795455</td>\n",
              "      <td>1</td>\n",
              "    </tr>\n",
              "    <tr>\n",
              "      <th>3</th>\n",
              "      <td>Angola</td>\n",
              "      <td>0.866071</td>\n",
              "      <td>0.262987</td>\n",
              "      <td>0</td>\n",
              "    </tr>\n",
              "    <tr>\n",
              "      <th>4</th>\n",
              "      <td>Antigua and Barbuda</td>\n",
              "      <td>0.057292</td>\n",
              "      <td>0.805195</td>\n",
              "      <td>1</td>\n",
              "    </tr>\n",
              "    <tr>\n",
              "      <th>...</th>\n",
              "      <td>...</td>\n",
              "      <td>...</td>\n",
              "      <td>...</td>\n",
              "      <td>...</td>\n",
              "    </tr>\n",
              "    <tr>\n",
              "      <th>132</th>\n",
              "      <td>Vanuatu</td>\n",
              "      <td>0.197917</td>\n",
              "      <td>0.357143</td>\n",
              "      <td>1</td>\n",
              "    </tr>\n",
              "    <tr>\n",
              "      <th>133</th>\n",
              "      <td>Venezuela</td>\n",
              "      <td>0.107887</td>\n",
              "      <td>0.759740</td>\n",
              "      <td>1</td>\n",
              "    </tr>\n",
              "    <tr>\n",
              "      <th>134</th>\n",
              "      <td>Vietnam</td>\n",
              "      <td>0.154018</td>\n",
              "      <td>0.685065</td>\n",
              "      <td>1</td>\n",
              "    </tr>\n",
              "    <tr>\n",
              "      <th>135</th>\n",
              "      <td>Yemen</td>\n",
              "      <td>0.399554</td>\n",
              "      <td>0.503247</td>\n",
              "      <td>0</td>\n",
              "    </tr>\n",
              "    <tr>\n",
              "      <th>136</th>\n",
              "      <td>Zambia</td>\n",
              "      <td>0.598958</td>\n",
              "      <td>0.000000</td>\n",
              "      <td>0</td>\n",
              "    </tr>\n",
              "  </tbody>\n",
              "</table>\n",
              "<p>137 rows × 4 columns</p>\n",
              "</div>"
            ],
            "text/plain": [
              "                  Negara  Kematian_anak  Harapan_hidup  n_cluster = 2\n",
              "0            Afghanistan       0.651786       0.136364              0\n",
              "1                Albania       0.104167       0.788961              1\n",
              "2                Algeria       0.183780       0.795455              1\n",
              "3                 Angola       0.866071       0.262987              0\n",
              "4    Antigua and Barbuda       0.057292       0.805195              1\n",
              "..                   ...            ...            ...            ...\n",
              "132              Vanuatu       0.197917       0.357143              1\n",
              "133            Venezuela       0.107887       0.759740              1\n",
              "134              Vietnam       0.154018       0.685065              1\n",
              "135                Yemen       0.399554       0.503247              0\n",
              "136               Zambia       0.598958       0.000000              0\n",
              "\n",
              "[137 rows x 4 columns]"
            ]
          },
          "metadata": {},
          "execution_count": 267
        }
      ]
    },
    {
      "cell_type": "code",
      "metadata": {
        "colab": {
          "base_uri": "https://localhost:8080/",
          "height": 498
        },
        "id": "9VvBUOIZftmX",
        "outputId": "01943ae6-07b1-450d-a274-cf9786dc5167"
      },
      "source": [
        "fig, ax = plt.subplots(figsize=(12,8))\n",
        "ax.scatter(data2['Kematian_anak'][data2['n_cluster = 2'] == 0],data2['Harapan_hidup'][data2['n_cluster = 2'] == 0],c='red',s=90,edgecolor='green')\n",
        "ax.scatter(data2['Kematian_anak'][data2['n_cluster = 2'] == 1],data2['Harapan_hidup'][data2['n_cluster = 2'] == 1],c='orange',s=90,edgecolor='green')\n",
        "ax.set_xlabel('Kematian_anak')\n",
        "ax.set_ylabel('Harapan_hidup')\n",
        "centers = kmeans1.cluster_centers_\n",
        "ax.scatter(centers[:,0],centers[:,1],c='black',s=500)\n",
        "plt.show()"
      ],
      "execution_count": null,
      "outputs": [
        {
          "output_type": "display_data",
          "data": {
            "image/png": "[encoded data removed]",
            "text/plain": [
              "<Figure size 864x576 with 1 Axes>"
            ]
          },
          "metadata": {
            "needs_background": "light"
          }
        }
      ]
    },
    {
      "cell_type": "markdown",
      "metadata": {
        "id": "fsdZ6rArgMMi"
      },
      "source": [
        "***PROSES MENGKATEGORIKAN***"
      ]
    },
    {
      "cell_type": "code",
      "metadata": {
        "colab": {
          "base_uri": "https://localhost:8080/",
          "height": 415
        },
        "id": "7faRPPhYgQX8",
        "outputId": "6a1e38a2-d478-472a-9e2f-c5105b2e5cc3"
      },
      "source": [
        "hasil1 = data1[data1['n_cluster = 2'].values == 1]\n",
        "hasil2 = data2[data2['n_cluster = 2'].values == 1]\n",
        "hasil = pd.merge(hasil1, hasil2, on='Negara', how='inner')\n",
        "hasil"
      ],
      "execution_count": null,
      "outputs": [
        {
          "output_type": "execute_result",
          "data": {
            "text/html": [
              "<div>\n",
              "<style scoped>\n",
              "    .dataframe tbody tr th:only-of-type {\n",
              "        vertical-align: middle;\n",
              "    }\n",
              "\n",
              "    .dataframe tbody tr th {\n",
              "        vertical-align: top;\n",
              "    }\n",
              "\n",
              "    .dataframe thead th {\n",
              "        text-align: right;\n",
              "    }\n",
              "</style>\n",
              "<table border=\"1\" class=\"dataframe\">\n",
              "  <thead>\n",
              "    <tr style=\"text-align: right;\">\n",
              "      <th></th>\n",
              "      <th>Negara</th>\n",
              "      <th>Pendapatan</th>\n",
              "      <th>GDPperkapita</th>\n",
              "      <th>n_cluster = 2_x</th>\n",
              "      <th>Kematian_anak</th>\n",
              "      <th>Harapan_hidup</th>\n",
              "      <th>n_cluster = 2_y</th>\n",
              "    </tr>\n",
              "  </thead>\n",
              "  <tbody>\n",
              "    <tr>\n",
              "      <th>0</th>\n",
              "      <td>Albania</td>\n",
              "      <td>0.191039</td>\n",
              "      <td>0.126239</td>\n",
              "      <td>1</td>\n",
              "      <td>0.104167</td>\n",
              "      <td>0.788961</td>\n",
              "      <td>1</td>\n",
              "    </tr>\n",
              "    <tr>\n",
              "      <th>1</th>\n",
              "      <td>Algeria</td>\n",
              "      <td>0.251911</td>\n",
              "      <td>0.138343</td>\n",
              "      <td>1</td>\n",
              "      <td>0.183780</td>\n",
              "      <td>0.795455</td>\n",
              "      <td>1</td>\n",
              "    </tr>\n",
              "    <tr>\n",
              "      <th>2</th>\n",
              "      <td>Armenia</td>\n",
              "      <td>0.124839</td>\n",
              "      <td>0.097779</td>\n",
              "      <td>1</td>\n",
              "      <td>0.115327</td>\n",
              "      <td>0.691558</td>\n",
              "      <td>1</td>\n",
              "    </tr>\n",
              "    <tr>\n",
              "      <th>3</th>\n",
              "      <td>Azerbaijan</td>\n",
              "      <td>0.315448</td>\n",
              "      <td>0.183487</td>\n",
              "      <td>1</td>\n",
              "      <td>0.272321</td>\n",
              "      <td>0.555195</td>\n",
              "      <td>1</td>\n",
              "    </tr>\n",
              "    <tr>\n",
              "      <th>4</th>\n",
              "      <td>Bangladesh</td>\n",
              "      <td>0.037527</td>\n",
              "      <td>0.017240</td>\n",
              "      <td>1</td>\n",
              "      <td>0.348214</td>\n",
              "      <td>0.597403</td>\n",
              "      <td>1</td>\n",
              "    </tr>\n",
              "    <tr>\n",
              "      <th>...</th>\n",
              "      <td>...</td>\n",
              "      <td>...</td>\n",
              "      <td>...</td>\n",
              "      <td>...</td>\n",
              "      <td>...</td>\n",
              "      <td>...</td>\n",
              "      <td>...</td>\n",
              "    </tr>\n",
              "    <tr>\n",
              "      <th>56</th>\n",
              "      <td>Tunisia</td>\n",
              "      <td>0.200672</td>\n",
              "      <td>0.127875</td>\n",
              "      <td>1</td>\n",
              "      <td>0.110119</td>\n",
              "      <td>0.808442</td>\n",
              "      <td>1</td>\n",
              "    </tr>\n",
              "    <tr>\n",
              "      <th>57</th>\n",
              "      <td>Ukraine</td>\n",
              "      <td>0.147794</td>\n",
              "      <td>0.089601</td>\n",
              "      <td>1</td>\n",
              "      <td>0.067708</td>\n",
              "      <td>0.597403</td>\n",
              "      <td>1</td>\n",
              "    </tr>\n",
              "    <tr>\n",
              "      <th>58</th>\n",
              "      <td>Uzbekistan</td>\n",
              "      <td>0.074419</td>\n",
              "      <td>0.037587</td>\n",
              "      <td>1</td>\n",
              "      <td>0.250744</td>\n",
              "      <td>0.545455</td>\n",
              "      <td>1</td>\n",
              "    </tr>\n",
              "    <tr>\n",
              "      <th>59</th>\n",
              "      <td>Vanuatu</td>\n",
              "      <td>0.047980</td>\n",
              "      <td>0.089601</td>\n",
              "      <td>1</td>\n",
              "      <td>0.197917</td>\n",
              "      <td>0.357143</td>\n",
              "      <td>1</td>\n",
              "    </tr>\n",
              "    <tr>\n",
              "      <th>60</th>\n",
              "      <td>Vietnam</td>\n",
              "      <td>0.079543</td>\n",
              "      <td>0.035297</td>\n",
              "      <td>1</td>\n",
              "      <td>0.154018</td>\n",
              "      <td>0.685065</td>\n",
              "      <td>1</td>\n",
              "    </tr>\n",
              "  </tbody>\n",
              "</table>\n",
              "<p>61 rows × 7 columns</p>\n",
              "</div>"
            ],
            "text/plain": [
              "        Negara  Pendapatan  ...  Harapan_hidup  n_cluster = 2_y\n",
              "0      Albania    0.191039  ...       0.788961                1\n",
              "1      Algeria    0.251911  ...       0.795455                1\n",
              "2      Armenia    0.124839  ...       0.691558                1\n",
              "3   Azerbaijan    0.315448  ...       0.555195                1\n",
              "4   Bangladesh    0.037527  ...       0.597403                1\n",
              "..         ...         ...  ...            ...              ...\n",
              "56     Tunisia    0.200672  ...       0.808442                1\n",
              "57     Ukraine    0.147794  ...       0.597403                1\n",
              "58  Uzbekistan    0.074419  ...       0.545455                1\n",
              "59     Vanuatu    0.047980  ...       0.357143                1\n",
              "60     Vietnam    0.079543  ...       0.685065                1\n",
              "\n",
              "[61 rows x 7 columns]"
            ]
          },
          "metadata": {},
          "execution_count": 286
        }
      ]
    },
    {
      "cell_type": "markdown",
      "metadata": {
        "id": "6PyIHLFzkHc4"
      },
      "source": [
        "# LOAD DATA"
      ]
    },
    {
      "cell_type": "code",
      "metadata": {
        "colab": {
          "base_uri": "https://localhost:8080/",
          "height": 415
        },
        "id": "2CNdKadjjm8V",
        "outputId": "c7d46016-3fa9-4496-91e9-4817159dbdea"
      },
      "source": [
        "## Ascending berdasarkan pendapatan (Menentukan pendapatan lebih kecil)\n",
        "load1 = hasil.sort_values(by=['Pendapatan'], ignore_index=True)\n",
        "load1['Rank Pendapatan'] = load1.index + 1\n",
        "load1"
      ],
      "execution_count": null,
      "outputs": [
        {
          "output_type": "execute_result",
          "data": {
            "text/html": [
              "<div>\n",
              "<style scoped>\n",
              "    .dataframe tbody tr th:only-of-type {\n",
              "        vertical-align: middle;\n",
              "    }\n",
              "\n",
              "    .dataframe tbody tr th {\n",
              "        vertical-align: top;\n",
              "    }\n",
              "\n",
              "    .dataframe thead th {\n",
              "        text-align: right;\n",
              "    }\n",
              "</style>\n",
              "<table border=\"1\" class=\"dataframe\">\n",
              "  <thead>\n",
              "    <tr style=\"text-align: right;\">\n",
              "      <th></th>\n",
              "      <th>Negara</th>\n",
              "      <th>Pendapatan</th>\n",
              "      <th>GDPperkapita</th>\n",
              "      <th>n_cluster = 2_x</th>\n",
              "      <th>Kematian_anak</th>\n",
              "      <th>Harapan_hidup</th>\n",
              "      <th>n_cluster = 2_y</th>\n",
              "      <th>Rank Pendapatan</th>\n",
              "    </tr>\n",
              "  </thead>\n",
              "  <tbody>\n",
              "    <tr>\n",
              "      <th>0</th>\n",
              "      <td>Solomon Islands</td>\n",
              "      <td>0.024000</td>\n",
              "      <td>0.034643</td>\n",
              "      <td>1</td>\n",
              "      <td>0.189732</td>\n",
              "      <td>0.314935</td>\n",
              "      <td>1</td>\n",
              "      <td>1</td>\n",
              "    </tr>\n",
              "    <tr>\n",
              "      <th>1</th>\n",
              "      <td>Timor-Leste</td>\n",
              "      <td>0.025435</td>\n",
              "      <td>0.110210</td>\n",
              "      <td>1</td>\n",
              "      <td>0.446429</td>\n",
              "      <td>0.620130</td>\n",
              "      <td>1</td>\n",
              "      <td>2</td>\n",
              "    </tr>\n",
              "    <tr>\n",
              "      <th>2</th>\n",
              "      <td>Nepal</td>\n",
              "      <td>0.028304</td>\n",
              "      <td>0.011809</td>\n",
              "      <td>1</td>\n",
              "      <td>0.330357</td>\n",
              "      <td>0.529221</td>\n",
              "      <td>1</td>\n",
              "      <td>3</td>\n",
              "    </tr>\n",
              "    <tr>\n",
              "      <th>3</th>\n",
              "      <td>Tajikistan</td>\n",
              "      <td>0.030764</td>\n",
              "      <td>0.016585</td>\n",
              "      <td>1</td>\n",
              "      <td>0.370536</td>\n",
              "      <td>0.571429</td>\n",
              "      <td>1</td>\n",
              "      <td>4</td>\n",
              "    </tr>\n",
              "    <tr>\n",
              "      <th>4</th>\n",
              "      <td>Bangladesh</td>\n",
              "      <td>0.037527</td>\n",
              "      <td>0.017240</td>\n",
              "      <td>1</td>\n",
              "      <td>0.348214</td>\n",
              "      <td>0.597403</td>\n",
              "      <td>1</td>\n",
              "      <td>5</td>\n",
              "    </tr>\n",
              "    <tr>\n",
              "      <th>...</th>\n",
              "      <td>...</td>\n",
              "      <td>...</td>\n",
              "      <td>...</td>\n",
              "      <td>...</td>\n",
              "      <td>...</td>\n",
              "      <td>...</td>\n",
              "      <td>...</td>\n",
              "      <td>...</td>\n",
              "    </tr>\n",
              "    <tr>\n",
              "      <th>56</th>\n",
              "      <td>Azerbaijan</td>\n",
              "      <td>0.315448</td>\n",
              "      <td>0.183487</td>\n",
              "      <td>1</td>\n",
              "      <td>0.272321</td>\n",
              "      <td>0.555195</td>\n",
              "      <td>1</td>\n",
              "      <td>57</td>\n",
              "    </tr>\n",
              "    <tr>\n",
              "      <th>57</th>\n",
              "      <td>Belarus</td>\n",
              "      <td>0.319547</td>\n",
              "      <td>0.189702</td>\n",
              "      <td>1</td>\n",
              "      <td>0.021577</td>\n",
              "      <td>0.597403</td>\n",
              "      <td>1</td>\n",
              "      <td>58</td>\n",
              "    </tr>\n",
              "    <tr>\n",
              "      <th>58</th>\n",
              "      <td>Lebanon</td>\n",
              "      <td>0.321596</td>\n",
              "      <td>0.282279</td>\n",
              "      <td>1</td>\n",
              "      <td>0.057292</td>\n",
              "      <td>0.902597</td>\n",
              "      <td>1</td>\n",
              "      <td>59</td>\n",
              "    </tr>\n",
              "    <tr>\n",
              "      <th>59</th>\n",
              "      <td>Iran</td>\n",
              "      <td>0.344141</td>\n",
              "      <td>0.206058</td>\n",
              "      <td>1</td>\n",
              "      <td>0.124256</td>\n",
              "      <td>0.730519</td>\n",
              "      <td>1</td>\n",
              "      <td>60</td>\n",
              "    </tr>\n",
              "    <tr>\n",
              "      <th>60</th>\n",
              "      <td>Romania</td>\n",
              "      <td>0.352340</td>\n",
              "      <td>0.261670</td>\n",
              "      <td>1</td>\n",
              "      <td>0.066220</td>\n",
              "      <td>0.704545</td>\n",
              "      <td>1</td>\n",
              "      <td>61</td>\n",
              "    </tr>\n",
              "  </tbody>\n",
              "</table>\n",
              "<p>61 rows × 8 columns</p>\n",
              "</div>"
            ],
            "text/plain": [
              "             Negara  Pendapatan  ...  n_cluster = 2_y  Rank Pendapatan\n",
              "0   Solomon Islands    0.024000  ...                1                1\n",
              "1       Timor-Leste    0.025435  ...                1                2\n",
              "2             Nepal    0.028304  ...                1                3\n",
              "3        Tajikistan    0.030764  ...                1                4\n",
              "4        Bangladesh    0.037527  ...                1                5\n",
              "..              ...         ...  ...              ...              ...\n",
              "56       Azerbaijan    0.315448  ...                1               57\n",
              "57          Belarus    0.319547  ...                1               58\n",
              "58          Lebanon    0.321596  ...                1               59\n",
              "59             Iran    0.344141  ...                1               60\n",
              "60          Romania    0.352340  ...                1               61\n",
              "\n",
              "[61 rows x 8 columns]"
            ]
          },
          "metadata": {},
          "execution_count": 270
        }
      ]
    },
    {
      "cell_type": "code",
      "metadata": {
        "colab": {
          "base_uri": "https://localhost:8080/",
          "height": 415
        },
        "id": "9Ub-55TXlYSx",
        "outputId": "6259ec50-19fa-4a74-b1ab-088e21c7f79f"
      },
      "source": [
        "## Descending berdasarkan kematian anak (Menentukan kematian terbesar)\n",
        "load2 = hasil.sort_values(by=['Kematian_anak'], ascending=False, ignore_index=True)\n",
        "load2['Rank Kematian anak'] = load2.index + 1\n",
        "load2"
      ],
      "execution_count": null,
      "outputs": [
        {
          "output_type": "execute_result",
          "data": {
            "text/html": [
              "<div>\n",
              "<style scoped>\n",
              "    .dataframe tbody tr th:only-of-type {\n",
              "        vertical-align: middle;\n",
              "    }\n",
              "\n",
              "    .dataframe tbody tr th {\n",
              "        vertical-align: top;\n",
              "    }\n",
              "\n",
              "    .dataframe thead th {\n",
              "        text-align: right;\n",
              "    }\n",
              "</style>\n",
              "<table border=\"1\" class=\"dataframe\">\n",
              "  <thead>\n",
              "    <tr style=\"text-align: right;\">\n",
              "      <th></th>\n",
              "      <th>Negara</th>\n",
              "      <th>Pendapatan</th>\n",
              "      <th>GDPperkapita</th>\n",
              "      <th>n_cluster = 2_x</th>\n",
              "      <th>Kematian_anak</th>\n",
              "      <th>Harapan_hidup</th>\n",
              "      <th>n_cluster = 2_y</th>\n",
              "      <th>Rank Kematian anak</th>\n",
              "    </tr>\n",
              "  </thead>\n",
              "  <tbody>\n",
              "    <tr>\n",
              "      <th>0</th>\n",
              "      <td>Timor-Leste</td>\n",
              "      <td>0.025435</td>\n",
              "      <td>0.110210</td>\n",
              "      <td>1</td>\n",
              "      <td>0.446429</td>\n",
              "      <td>0.620130</td>\n",
              "      <td>1</td>\n",
              "      <td>1</td>\n",
              "    </tr>\n",
              "    <tr>\n",
              "      <th>1</th>\n",
              "      <td>Tajikistan</td>\n",
              "      <td>0.030764</td>\n",
              "      <td>0.016585</td>\n",
              "      <td>1</td>\n",
              "      <td>0.370536</td>\n",
              "      <td>0.571429</td>\n",
              "      <td>1</td>\n",
              "      <td>2</td>\n",
              "    </tr>\n",
              "    <tr>\n",
              "      <th>2</th>\n",
              "      <td>Bangladesh</td>\n",
              "      <td>0.037527</td>\n",
              "      <td>0.017240</td>\n",
              "      <td>1</td>\n",
              "      <td>0.348214</td>\n",
              "      <td>0.597403</td>\n",
              "      <td>1</td>\n",
              "      <td>3</td>\n",
              "    </tr>\n",
              "    <tr>\n",
              "      <th>3</th>\n",
              "      <td>Nepal</td>\n",
              "      <td>0.028304</td>\n",
              "      <td>0.011809</td>\n",
              "      <td>1</td>\n",
              "      <td>0.330357</td>\n",
              "      <td>0.529221</td>\n",
              "      <td>1</td>\n",
              "      <td>4</td>\n",
              "    </tr>\n",
              "    <tr>\n",
              "      <th>4</th>\n",
              "      <td>Bolivia</td>\n",
              "      <td>0.098399</td>\n",
              "      <td>0.057215</td>\n",
              "      <td>1</td>\n",
              "      <td>0.327381</td>\n",
              "      <td>0.636364</td>\n",
              "      <td>1</td>\n",
              "      <td>5</td>\n",
              "    </tr>\n",
              "    <tr>\n",
              "      <th>...</th>\n",
              "      <td>...</td>\n",
              "      <td>...</td>\n",
              "      <td>...</td>\n",
              "      <td>...</td>\n",
              "      <td>...</td>\n",
              "      <td>...</td>\n",
              "      <td>...</td>\n",
              "      <td>...</td>\n",
              "    </tr>\n",
              "    <tr>\n",
              "      <th>56</th>\n",
              "      <td>Costa Rica</td>\n",
              "      <td>0.253961</td>\n",
              "      <td>0.260689</td>\n",
              "      <td>1</td>\n",
              "      <td>0.056548</td>\n",
              "      <td>0.922078</td>\n",
              "      <td>1</td>\n",
              "      <td>57</td>\n",
              "    </tr>\n",
              "    <tr>\n",
              "      <th>57</th>\n",
              "      <td>Serbia</td>\n",
              "      <td>0.247812</td>\n",
              "      <td>0.169420</td>\n",
              "      <td>1</td>\n",
              "      <td>0.037202</td>\n",
              "      <td>0.737013</td>\n",
              "      <td>1</td>\n",
              "      <td>58</td>\n",
              "    </tr>\n",
              "    <tr>\n",
              "      <th>58</th>\n",
              "      <td>Bosnia and Herzegovina</td>\n",
              "      <td>0.186735</td>\n",
              "      <td>0.143250</td>\n",
              "      <td>1</td>\n",
              "      <td>0.031994</td>\n",
              "      <td>0.805195</td>\n",
              "      <td>1</td>\n",
              "      <td>59</td>\n",
              "    </tr>\n",
              "    <tr>\n",
              "      <th>59</th>\n",
              "      <td>Montenegro</td>\n",
              "      <td>0.274456</td>\n",
              "      <td>0.210965</td>\n",
              "      <td>1</td>\n",
              "      <td>0.031250</td>\n",
              "      <td>0.792208</td>\n",
              "      <td>1</td>\n",
              "      <td>60</td>\n",
              "    </tr>\n",
              "    <tr>\n",
              "      <th>60</th>\n",
              "      <td>Belarus</td>\n",
              "      <td>0.319547</td>\n",
              "      <td>0.189702</td>\n",
              "      <td>1</td>\n",
              "      <td>0.021577</td>\n",
              "      <td>0.597403</td>\n",
              "      <td>1</td>\n",
              "      <td>61</td>\n",
              "    </tr>\n",
              "  </tbody>\n",
              "</table>\n",
              "<p>61 rows × 8 columns</p>\n",
              "</div>"
            ],
            "text/plain": [
              "                    Negara  Pendapatan  ...  n_cluster = 2_y  Rank Kematian anak\n",
              "0              Timor-Leste    0.025435  ...                1                   1\n",
              "1               Tajikistan    0.030764  ...                1                   2\n",
              "2               Bangladesh    0.037527  ...                1                   3\n",
              "3                    Nepal    0.028304  ...                1                   4\n",
              "4                  Bolivia    0.098399  ...                1                   5\n",
              "..                     ...         ...  ...              ...                 ...\n",
              "56              Costa Rica    0.253961  ...                1                  57\n",
              "57                  Serbia    0.247812  ...                1                  58\n",
              "58  Bosnia and Herzegovina    0.186735  ...                1                  59\n",
              "59              Montenegro    0.274456  ...                1                  60\n",
              "60                 Belarus    0.319547  ...                1                  61\n",
              "\n",
              "[61 rows x 8 columns]"
            ]
          },
          "metadata": {},
          "execution_count": 271
        }
      ]
    },
    {
      "cell_type": "code",
      "metadata": {
        "colab": {
          "base_uri": "https://localhost:8080/",
          "height": 415
        },
        "id": "_0GWC5lmnPq0",
        "outputId": "f75c8d15-afa3-4416-dfa3-c70fc5f36f18"
      },
      "source": [
        "## Ascending berdasarkan harapan hidup (Menentukan harapan hidup lebih kecil)\n",
        "load3 = hasil.sort_values(by=['Harapan_hidup'], ignore_index=True)\n",
        "load3['Rank Harapan hidup'] = load3.index + 1\n",
        "load3"
      ],
      "execution_count": null,
      "outputs": [
        {
          "output_type": "execute_result",
          "data": {
            "text/html": [
              "<div>\n",
              "<style scoped>\n",
              "    .dataframe tbody tr th:only-of-type {\n",
              "        vertical-align: middle;\n",
              "    }\n",
              "\n",
              "    .dataframe tbody tr th {\n",
              "        vertical-align: top;\n",
              "    }\n",
              "\n",
              "    .dataframe thead th {\n",
              "        text-align: right;\n",
              "    }\n",
              "</style>\n",
              "<table border=\"1\" class=\"dataframe\">\n",
              "  <thead>\n",
              "    <tr style=\"text-align: right;\">\n",
              "      <th></th>\n",
              "      <th>Negara</th>\n",
              "      <th>Pendapatan</th>\n",
              "      <th>GDPperkapita</th>\n",
              "      <th>n_cluster = 2_x</th>\n",
              "      <th>Kematian_anak</th>\n",
              "      <th>Harapan_hidup</th>\n",
              "      <th>n_cluster = 2_y</th>\n",
              "      <th>Rank Harapan hidup</th>\n",
              "    </tr>\n",
              "  </thead>\n",
              "  <tbody>\n",
              "    <tr>\n",
              "      <th>0</th>\n",
              "      <td>Solomon Islands</td>\n",
              "      <td>0.024000</td>\n",
              "      <td>0.034643</td>\n",
              "      <td>1</td>\n",
              "      <td>0.189732</td>\n",
              "      <td>0.314935</td>\n",
              "      <td>1</td>\n",
              "      <td>1</td>\n",
              "    </tr>\n",
              "    <tr>\n",
              "      <th>1</th>\n",
              "      <td>Vanuatu</td>\n",
              "      <td>0.047980</td>\n",
              "      <td>0.089601</td>\n",
              "      <td>1</td>\n",
              "      <td>0.197917</td>\n",
              "      <td>0.357143</td>\n",
              "      <td>1</td>\n",
              "      <td>2</td>\n",
              "    </tr>\n",
              "    <tr>\n",
              "      <th>2</th>\n",
              "      <td>Fiji</td>\n",
              "      <td>0.138161</td>\n",
              "      <td>0.111845</td>\n",
              "      <td>1</td>\n",
              "      <td>0.159970</td>\n",
              "      <td>0.431818</td>\n",
              "      <td>1</td>\n",
              "      <td>3</td>\n",
              "    </tr>\n",
              "    <tr>\n",
              "      <th>3</th>\n",
              "      <td>Micronesia, Fed. Sts.</td>\n",
              "      <td>0.055973</td>\n",
              "      <td>0.086002</td>\n",
              "      <td>1</td>\n",
              "      <td>0.278274</td>\n",
              "      <td>0.435065</td>\n",
              "      <td>1</td>\n",
              "      <td>4</td>\n",
              "    </tr>\n",
              "    <tr>\n",
              "      <th>4</th>\n",
              "      <td>Guyana</td>\n",
              "      <td>0.107212</td>\n",
              "      <td>0.091890</td>\n",
              "      <td>1</td>\n",
              "      <td>0.260417</td>\n",
              "      <td>0.438312</td>\n",
              "      <td>1</td>\n",
              "      <td>5</td>\n",
              "    </tr>\n",
              "    <tr>\n",
              "      <th>...</th>\n",
              "      <td>...</td>\n",
              "      <td>...</td>\n",
              "      <td>...</td>\n",
              "      <td>...</td>\n",
              "      <td>...</td>\n",
              "      <td>...</td>\n",
              "      <td>...</td>\n",
              "      <td>...</td>\n",
              "    </tr>\n",
              "    <tr>\n",
              "      <th>56</th>\n",
              "      <td>Panama</td>\n",
              "      <td>0.303150</td>\n",
              "      <td>0.256763</td>\n",
              "      <td>1</td>\n",
              "      <td>0.127232</td>\n",
              "      <td>0.837662</td>\n",
              "      <td>1</td>\n",
              "      <td>57</td>\n",
              "    </tr>\n",
              "    <tr>\n",
              "      <th>57</th>\n",
              "      <td>Peru</td>\n",
              "      <td>0.191654</td>\n",
              "      <td>0.156662</td>\n",
              "      <td>1</td>\n",
              "      <td>0.131696</td>\n",
              "      <td>0.840909</td>\n",
              "      <td>1</td>\n",
              "      <td>58</td>\n",
              "    </tr>\n",
              "    <tr>\n",
              "      <th>58</th>\n",
              "      <td>Maldives</td>\n",
              "      <td>0.202722</td>\n",
              "      <td>0.224705</td>\n",
              "      <td>1</td>\n",
              "      <td>0.078869</td>\n",
              "      <td>0.840909</td>\n",
              "      <td>1</td>\n",
              "      <td>59</td>\n",
              "    </tr>\n",
              "    <tr>\n",
              "      <th>59</th>\n",
              "      <td>Lebanon</td>\n",
              "      <td>0.321596</td>\n",
              "      <td>0.282279</td>\n",
              "      <td>1</td>\n",
              "      <td>0.057292</td>\n",
              "      <td>0.902597</td>\n",
              "      <td>1</td>\n",
              "      <td>60</td>\n",
              "    </tr>\n",
              "    <tr>\n",
              "      <th>60</th>\n",
              "      <td>Costa Rica</td>\n",
              "      <td>0.253961</td>\n",
              "      <td>0.260689</td>\n",
              "      <td>1</td>\n",
              "      <td>0.056548</td>\n",
              "      <td>0.922078</td>\n",
              "      <td>1</td>\n",
              "      <td>61</td>\n",
              "    </tr>\n",
              "  </tbody>\n",
              "</table>\n",
              "<p>61 rows × 8 columns</p>\n",
              "</div>"
            ],
            "text/plain": [
              "                   Negara  Pendapatan  ...  n_cluster = 2_y  Rank Harapan hidup\n",
              "0         Solomon Islands    0.024000  ...                1                   1\n",
              "1                 Vanuatu    0.047980  ...                1                   2\n",
              "2                    Fiji    0.138161  ...                1                   3\n",
              "3   Micronesia, Fed. Sts.    0.055973  ...                1                   4\n",
              "4                  Guyana    0.107212  ...                1                   5\n",
              "..                    ...         ...  ...              ...                 ...\n",
              "56                 Panama    0.303150  ...                1                  57\n",
              "57                   Peru    0.191654  ...                1                  58\n",
              "58               Maldives    0.202722  ...                1                  59\n",
              "59                Lebanon    0.321596  ...                1                  60\n",
              "60             Costa Rica    0.253961  ...                1                  61\n",
              "\n",
              "[61 rows x 8 columns]"
            ]
          },
          "metadata": {},
          "execution_count": 272
        }
      ]
    },
    {
      "cell_type": "code",
      "metadata": {
        "colab": {
          "base_uri": "https://localhost:8080/",
          "height": 415
        },
        "id": "j4BJ5ioanpdU",
        "outputId": "26c3f353-dfc8-4d5e-cefd-85660509fcba"
      },
      "source": [
        "dataset = load1[['Negara', 'Rank Pendapatan']]\n",
        "dataset1 = load2[['Negara', 'Rank Kematian anak']]\n",
        "dataset2 = load3[['Negara', 'Rank Harapan hidup']]\n",
        "\n",
        "gabungan = pd.merge(dataset, dataset1, on='Negara', how='inner')\n",
        "gabungan2 = pd.merge(gabungan, dataset2, on='Negara', how='inner')\n",
        "gabungan2"
      ],
      "execution_count": null,
      "outputs": [
        {
          "output_type": "execute_result",
          "data": {
            "text/html": [
              "<div>\n",
              "<style scoped>\n",
              "    .dataframe tbody tr th:only-of-type {\n",
              "        vertical-align: middle;\n",
              "    }\n",
              "\n",
              "    .dataframe tbody tr th {\n",
              "        vertical-align: top;\n",
              "    }\n",
              "\n",
              "    .dataframe thead th {\n",
              "        text-align: right;\n",
              "    }\n",
              "</style>\n",
              "<table border=\"1\" class=\"dataframe\">\n",
              "  <thead>\n",
              "    <tr style=\"text-align: right;\">\n",
              "      <th></th>\n",
              "      <th>Negara</th>\n",
              "      <th>Rank Pendapatan</th>\n",
              "      <th>Rank Kematian anak</th>\n",
              "      <th>Rank Harapan hidup</th>\n",
              "    </tr>\n",
              "  </thead>\n",
              "  <tbody>\n",
              "    <tr>\n",
              "      <th>0</th>\n",
              "      <td>Solomon Islands</td>\n",
              "      <td>1</td>\n",
              "      <td>21</td>\n",
              "      <td>1</td>\n",
              "    </tr>\n",
              "    <tr>\n",
              "      <th>1</th>\n",
              "      <td>Timor-Leste</td>\n",
              "      <td>2</td>\n",
              "      <td>1</td>\n",
              "      <td>23</td>\n",
              "    </tr>\n",
              "    <tr>\n",
              "      <th>2</th>\n",
              "      <td>Nepal</td>\n",
              "      <td>3</td>\n",
              "      <td>4</td>\n",
              "      <td>9</td>\n",
              "    </tr>\n",
              "    <tr>\n",
              "      <th>3</th>\n",
              "      <td>Tajikistan</td>\n",
              "      <td>4</td>\n",
              "      <td>2</td>\n",
              "      <td>14</td>\n",
              "    </tr>\n",
              "    <tr>\n",
              "      <th>4</th>\n",
              "      <td>Bangladesh</td>\n",
              "      <td>5</td>\n",
              "      <td>3</td>\n",
              "      <td>21</td>\n",
              "    </tr>\n",
              "    <tr>\n",
              "      <th>...</th>\n",
              "      <td>...</td>\n",
              "      <td>...</td>\n",
              "      <td>...</td>\n",
              "      <td>...</td>\n",
              "    </tr>\n",
              "    <tr>\n",
              "      <th>56</th>\n",
              "      <td>Azerbaijan</td>\n",
              "      <td>57</td>\n",
              "      <td>9</td>\n",
              "      <td>13</td>\n",
              "    </tr>\n",
              "    <tr>\n",
              "      <th>57</th>\n",
              "      <td>Belarus</td>\n",
              "      <td>58</td>\n",
              "      <td>61</td>\n",
              "      <td>19</td>\n",
              "    </tr>\n",
              "    <tr>\n",
              "      <th>58</th>\n",
              "      <td>Lebanon</td>\n",
              "      <td>59</td>\n",
              "      <td>56</td>\n",
              "      <td>60</td>\n",
              "    </tr>\n",
              "    <tr>\n",
              "      <th>59</th>\n",
              "      <td>Iran</td>\n",
              "      <td>60</td>\n",
              "      <td>34</td>\n",
              "      <td>43</td>\n",
              "    </tr>\n",
              "    <tr>\n",
              "      <th>60</th>\n",
              "      <td>Romania</td>\n",
              "      <td>61</td>\n",
              "      <td>52</td>\n",
              "      <td>37</td>\n",
              "    </tr>\n",
              "  </tbody>\n",
              "</table>\n",
              "<p>61 rows × 4 columns</p>\n",
              "</div>"
            ],
            "text/plain": [
              "             Negara  Rank Pendapatan  Rank Kematian anak  Rank Harapan hidup\n",
              "0   Solomon Islands                1                  21                   1\n",
              "1       Timor-Leste                2                   1                  23\n",
              "2             Nepal                3                   4                   9\n",
              "3        Tajikistan                4                   2                  14\n",
              "4        Bangladesh                5                   3                  21\n",
              "..              ...              ...                 ...                 ...\n",
              "56       Azerbaijan               57                   9                  13\n",
              "57          Belarus               58                  61                  19\n",
              "58          Lebanon               59                  56                  60\n",
              "59             Iran               60                  34                  43\n",
              "60          Romania               61                  52                  37\n",
              "\n",
              "[61 rows x 4 columns]"
            ]
          },
          "metadata": {},
          "execution_count": 273
        }
      ]
    },
    {
      "cell_type": "code",
      "metadata": {
        "colab": {
          "base_uri": "https://localhost:8080/",
          "height": 17
        },
        "id": "BGsLemCWi0YE",
        "outputId": "9c78c7f7-8b92-40df-ae8e-b768190efe10"
      },
      "source": [
        "gabungan2.to_csv('data_hasil.csv', index=False)\n",
        "files.download('data_hasil.csv')"
      ],
      "execution_count": null,
      "outputs": [
        {
          "output_type": "display_data",
          "data": {
            "application/javascript": [
              "\n",
              "    async function download(id, filename, size) {\n",
              "      if (!google.colab.kernel.accessAllowed) {\n",
              "        return;\n",
              "      }\n",
              "      const div = document.createElement('div');\n",
              "      const label = document.createElement('label');\n",
              "      label.textContent = `Downloading \"${filename}\": `;\n",
              "      div.appendChild(label);\n",
              "      const progress = document.createElement('progress');\n",
              "      progress.max = size;\n",
              "      div.appendChild(progress);\n",
              "      document.body.appendChild(div);\n",
              "\n",
              "      const buffers = [];\n",
              "      let downloaded = 0;\n",
              "\n",
              "      const channel = await google.colab.kernel.comms.open(id);\n",
              "      // Send a message to notify the kernel that we're ready.\n",
              "      channel.send({})\n",
              "\n",
              "      for await (const message of channel.messages) {\n",
              "        // Send a message to notify the kernel that we're ready.\n",
              "        channel.send({})\n",
              "        if (message.buffers) {\n",
              "          for (const buffer of message.buffers) {\n",
              "            buffers.push(buffer);\n",
              "            downloaded += buffer.byteLength;\n",
              "            progress.value = downloaded;\n",
              "          }\n",
              "        }\n",
              "      }\n",
              "      const blob = new Blob(buffers, {type: 'application/binary'});\n",
              "      const a = document.createElement('a');\n",
              "      a.href = window.URL.createObjectURL(blob);\n",
              "      a.download = filename;\n",
              "      div.appendChild(a);\n",
              "      a.click();\n",
              "      div.remove();\n",
              "    }\n",
              "  "
            ],
            "text/plain": [
              "<IPython.core.display.Javascript object>"
            ]
          },
          "metadata": {}
        },
        {
          "output_type": "display_data",
          "data": {
            "application/javascript": [
              "download(\"download_b7cff1bc-c41f-4d8a-9a61-8ddc4f2f50d4\", \"data_hasil.csv\", 1182)"
            ],
            "text/plain": [
              "<IPython.core.display.Javascript object>"
            ]
          },
          "metadata": {}
        }
      ]
    },
    {
      "cell_type": "code",
      "metadata": {
        "colab": {
          "base_uri": "https://localhost:8080/",
          "height": 1000
        },
        "id": "gkajt5vrvI84",
        "outputId": "fab34a6d-f1ca-4605-96ff-8473772ff2d0"
      },
      "source": [
        "gabungan2.head(31)"
      ],
      "execution_count": null,
      "outputs": [
        {
          "output_type": "execute_result",
          "data": {
            "text/html": [
              "<div>\n",
              "<style scoped>\n",
              "    .dataframe tbody tr th:only-of-type {\n",
              "        vertical-align: middle;\n",
              "    }\n",
              "\n",
              "    .dataframe tbody tr th {\n",
              "        vertical-align: top;\n",
              "    }\n",
              "\n",
              "    .dataframe thead th {\n",
              "        text-align: right;\n",
              "    }\n",
              "</style>\n",
              "<table border=\"1\" class=\"dataframe\">\n",
              "  <thead>\n",
              "    <tr style=\"text-align: right;\">\n",
              "      <th></th>\n",
              "      <th>Negara</th>\n",
              "      <th>Rank Pendapatan</th>\n",
              "      <th>Rank Kematian anak</th>\n",
              "      <th>Rank Harapan hidup</th>\n",
              "    </tr>\n",
              "  </thead>\n",
              "  <tbody>\n",
              "    <tr>\n",
              "      <th>0</th>\n",
              "      <td>Solomon Islands</td>\n",
              "      <td>1</td>\n",
              "      <td>21</td>\n",
              "      <td>1</td>\n",
              "    </tr>\n",
              "    <tr>\n",
              "      <th>1</th>\n",
              "      <td>Timor-Leste</td>\n",
              "      <td>2</td>\n",
              "      <td>1</td>\n",
              "      <td>23</td>\n",
              "    </tr>\n",
              "    <tr>\n",
              "      <th>2</th>\n",
              "      <td>Nepal</td>\n",
              "      <td>3</td>\n",
              "      <td>4</td>\n",
              "      <td>9</td>\n",
              "    </tr>\n",
              "    <tr>\n",
              "      <th>3</th>\n",
              "      <td>Tajikistan</td>\n",
              "      <td>4</td>\n",
              "      <td>2</td>\n",
              "      <td>14</td>\n",
              "    </tr>\n",
              "    <tr>\n",
              "      <th>4</th>\n",
              "      <td>Bangladesh</td>\n",
              "      <td>5</td>\n",
              "      <td>3</td>\n",
              "      <td>21</td>\n",
              "    </tr>\n",
              "    <tr>\n",
              "      <th>5</th>\n",
              "      <td>Cambodia</td>\n",
              "      <td>6</td>\n",
              "      <td>6</td>\n",
              "      <td>6</td>\n",
              "    </tr>\n",
              "    <tr>\n",
              "      <th>6</th>\n",
              "      <td>Kyrgyz Republic</td>\n",
              "      <td>7</td>\n",
              "      <td>18</td>\n",
              "      <td>10</td>\n",
              "    </tr>\n",
              "    <tr>\n",
              "      <th>7</th>\n",
              "      <td>Vanuatu</td>\n",
              "      <td>8</td>\n",
              "      <td>19</td>\n",
              "      <td>2</td>\n",
              "    </tr>\n",
              "    <tr>\n",
              "      <th>8</th>\n",
              "      <td>Micronesia, Fed. Sts.</td>\n",
              "      <td>9</td>\n",
              "      <td>8</td>\n",
              "      <td>4</td>\n",
              "    </tr>\n",
              "    <tr>\n",
              "      <th>9</th>\n",
              "      <td>Moldova</td>\n",
              "      <td>10</td>\n",
              "      <td>43</td>\n",
              "      <td>15</td>\n",
              "    </tr>\n",
              "    <tr>\n",
              "      <th>10</th>\n",
              "      <td>Uzbekistan</td>\n",
              "      <td>11</td>\n",
              "      <td>12</td>\n",
              "      <td>11</td>\n",
              "    </tr>\n",
              "    <tr>\n",
              "      <th>11</th>\n",
              "      <td>Vietnam</td>\n",
              "      <td>12</td>\n",
              "      <td>29</td>\n",
              "      <td>33</td>\n",
              "    </tr>\n",
              "    <tr>\n",
              "      <th>12</th>\n",
              "      <td>Tonga</td>\n",
              "      <td>13</td>\n",
              "      <td>42</td>\n",
              "      <td>17</td>\n",
              "    </tr>\n",
              "    <tr>\n",
              "      <th>13</th>\n",
              "      <td>Samoa</td>\n",
              "      <td>14</td>\n",
              "      <td>36</td>\n",
              "      <td>27</td>\n",
              "    </tr>\n",
              "    <tr>\n",
              "      <th>14</th>\n",
              "      <td>Bolivia</td>\n",
              "      <td>15</td>\n",
              "      <td>5</td>\n",
              "      <td>28</td>\n",
              "    </tr>\n",
              "    <tr>\n",
              "      <th>15</th>\n",
              "      <td>Philippines</td>\n",
              "      <td>16</td>\n",
              "      <td>17</td>\n",
              "      <td>12</td>\n",
              "    </tr>\n",
              "    <tr>\n",
              "      <th>16</th>\n",
              "      <td>Cape Verde</td>\n",
              "      <td>17</td>\n",
              "      <td>23</td>\n",
              "      <td>31</td>\n",
              "    </tr>\n",
              "    <tr>\n",
              "      <th>17</th>\n",
              "      <td>Guyana</td>\n",
              "      <td>18</td>\n",
              "      <td>10</td>\n",
              "      <td>5</td>\n",
              "    </tr>\n",
              "    <tr>\n",
              "      <th>18</th>\n",
              "      <td>Bhutan</td>\n",
              "      <td>19</td>\n",
              "      <td>7</td>\n",
              "      <td>30</td>\n",
              "    </tr>\n",
              "    <tr>\n",
              "      <th>19</th>\n",
              "      <td>Morocco</td>\n",
              "      <td>20</td>\n",
              "      <td>15</td>\n",
              "      <td>36</td>\n",
              "    </tr>\n",
              "    <tr>\n",
              "      <th>20</th>\n",
              "      <td>Armenia</td>\n",
              "      <td>21</td>\n",
              "      <td>39</td>\n",
              "      <td>34</td>\n",
              "    </tr>\n",
              "    <tr>\n",
              "      <th>21</th>\n",
              "      <td>Guatemala</td>\n",
              "      <td>22</td>\n",
              "      <td>13</td>\n",
              "      <td>24</td>\n",
              "    </tr>\n",
              "    <tr>\n",
              "      <th>22</th>\n",
              "      <td>Georgia</td>\n",
              "      <td>23</td>\n",
              "      <td>45</td>\n",
              "      <td>32</td>\n",
              "    </tr>\n",
              "    <tr>\n",
              "      <th>23</th>\n",
              "      <td>Paraguay</td>\n",
              "      <td>24</td>\n",
              "      <td>26</td>\n",
              "      <td>40</td>\n",
              "    </tr>\n",
              "    <tr>\n",
              "      <th>24</th>\n",
              "      <td>El Salvador</td>\n",
              "      <td>25</td>\n",
              "      <td>35</td>\n",
              "      <td>41</td>\n",
              "    </tr>\n",
              "    <tr>\n",
              "      <th>25</th>\n",
              "      <td>Fiji</td>\n",
              "      <td>26</td>\n",
              "      <td>27</td>\n",
              "      <td>3</td>\n",
              "    </tr>\n",
              "    <tr>\n",
              "      <th>26</th>\n",
              "      <td>Mongolia</td>\n",
              "      <td>27</td>\n",
              "      <td>24</td>\n",
              "      <td>7</td>\n",
              "    </tr>\n",
              "    <tr>\n",
              "      <th>27</th>\n",
              "      <td>Ukraine</td>\n",
              "      <td>28</td>\n",
              "      <td>51</td>\n",
              "      <td>20</td>\n",
              "    </tr>\n",
              "    <tr>\n",
              "      <th>28</th>\n",
              "      <td>Belize</td>\n",
              "      <td>29</td>\n",
              "      <td>37</td>\n",
              "      <td>26</td>\n",
              "    </tr>\n",
              "    <tr>\n",
              "      <th>29</th>\n",
              "      <td>Jamaica</td>\n",
              "      <td>30</td>\n",
              "      <td>40</td>\n",
              "      <td>46</td>\n",
              "    </tr>\n",
              "    <tr>\n",
              "      <th>30</th>\n",
              "      <td>Indonesia</td>\n",
              "      <td>31</td>\n",
              "      <td>16</td>\n",
              "      <td>16</td>\n",
              "    </tr>\n",
              "  </tbody>\n",
              "</table>\n",
              "</div>"
            ],
            "text/plain": [
              "                   Negara  ...  Rank Harapan hidup\n",
              "0         Solomon Islands  ...                   1\n",
              "1             Timor-Leste  ...                  23\n",
              "2                   Nepal  ...                   9\n",
              "3              Tajikistan  ...                  14\n",
              "4              Bangladesh  ...                  21\n",
              "5                Cambodia  ...                   6\n",
              "6         Kyrgyz Republic  ...                  10\n",
              "7                 Vanuatu  ...                   2\n",
              "8   Micronesia, Fed. Sts.  ...                   4\n",
              "9                 Moldova  ...                  15\n",
              "10             Uzbekistan  ...                  11\n",
              "11                Vietnam  ...                  33\n",
              "12                  Tonga  ...                  17\n",
              "13                  Samoa  ...                  27\n",
              "14                Bolivia  ...                  28\n",
              "15            Philippines  ...                  12\n",
              "16             Cape Verde  ...                  31\n",
              "17                 Guyana  ...                   5\n",
              "18                 Bhutan  ...                  30\n",
              "19                Morocco  ...                  36\n",
              "20                Armenia  ...                  34\n",
              "21              Guatemala  ...                  24\n",
              "22                Georgia  ...                  32\n",
              "23               Paraguay  ...                  40\n",
              "24            El Salvador  ...                  41\n",
              "25                   Fiji  ...                   3\n",
              "26               Mongolia  ...                   7\n",
              "27                Ukraine  ...                  20\n",
              "28                 Belize  ...                  26\n",
              "29                Jamaica  ...                  46\n",
              "30              Indonesia  ...                  16\n",
              "\n",
              "[31 rows x 4 columns]"
            ]
          },
          "metadata": {},
          "execution_count": 285
        }
      ]
    },
    {
      "cell_type": "code",
      "metadata": {
        "colab": {
          "base_uri": "https://localhost:8080/",
          "height": 971
        },
        "id": "WNmeQHJcu26V",
        "outputId": "72983dbe-1c0d-4275-d3ab-cfd9488440d5"
      },
      "source": [
        "gabungan2.tail(30)"
      ],
      "execution_count": null,
      "outputs": [
        {
          "output_type": "execute_result",
          "data": {
            "text/html": [
              "<div>\n",
              "<style scoped>\n",
              "    .dataframe tbody tr th:only-of-type {\n",
              "        vertical-align: middle;\n",
              "    }\n",
              "\n",
              "    .dataframe tbody tr th {\n",
              "        vertical-align: top;\n",
              "    }\n",
              "\n",
              "    .dataframe thead th {\n",
              "        text-align: right;\n",
              "    }\n",
              "</style>\n",
              "<table border=\"1\" class=\"dataframe\">\n",
              "  <thead>\n",
              "    <tr style=\"text-align: right;\">\n",
              "      <th></th>\n",
              "      <th>Negara</th>\n",
              "      <th>Rank Pendapatan</th>\n",
              "      <th>Rank Kematian anak</th>\n",
              "      <th>Rank Harapan hidup</th>\n",
              "    </tr>\n",
              "  </thead>\n",
              "  <tbody>\n",
              "    <tr>\n",
              "      <th>31</th>\n",
              "      <td>Sri Lanka</td>\n",
              "      <td>32</td>\n",
              "      <td>53</td>\n",
              "      <td>42</td>\n",
              "    </tr>\n",
              "    <tr>\n",
              "      <th>32</th>\n",
              "      <td>Ecuador</td>\n",
              "      <td>33</td>\n",
              "      <td>25</td>\n",
              "      <td>54</td>\n",
              "    </tr>\n",
              "    <tr>\n",
              "      <th>33</th>\n",
              "      <td>Jordan</td>\n",
              "      <td>34</td>\n",
              "      <td>30</td>\n",
              "      <td>48</td>\n",
              "    </tr>\n",
              "    <tr>\n",
              "      <th>34</th>\n",
              "      <td>China</td>\n",
              "      <td>35</td>\n",
              "      <td>46</td>\n",
              "      <td>45</td>\n",
              "    </tr>\n",
              "    <tr>\n",
              "      <th>35</th>\n",
              "      <td>Bosnia and Herzegovina</td>\n",
              "      <td>36</td>\n",
              "      <td>59</td>\n",
              "      <td>55</td>\n",
              "    </tr>\n",
              "    <tr>\n",
              "      <th>36</th>\n",
              "      <td>Egypt</td>\n",
              "      <td>37</td>\n",
              "      <td>20</td>\n",
              "      <td>22</td>\n",
              "    </tr>\n",
              "    <tr>\n",
              "      <th>37</th>\n",
              "      <td>St. Vincent and the Grenadines</td>\n",
              "      <td>38</td>\n",
              "      <td>31</td>\n",
              "      <td>29</td>\n",
              "    </tr>\n",
              "    <tr>\n",
              "      <th>38</th>\n",
              "      <td>Albania</td>\n",
              "      <td>39</td>\n",
              "      <td>44</td>\n",
              "      <td>49</td>\n",
              "    </tr>\n",
              "    <tr>\n",
              "      <th>39</th>\n",
              "      <td>Peru</td>\n",
              "      <td>40</td>\n",
              "      <td>32</td>\n",
              "      <td>58</td>\n",
              "    </tr>\n",
              "    <tr>\n",
              "      <th>40</th>\n",
              "      <td>Tunisia</td>\n",
              "      <td>41</td>\n",
              "      <td>41</td>\n",
              "      <td>56</td>\n",
              "    </tr>\n",
              "    <tr>\n",
              "      <th>41</th>\n",
              "      <td>Maldives</td>\n",
              "      <td>42</td>\n",
              "      <td>50</td>\n",
              "      <td>59</td>\n",
              "    </tr>\n",
              "    <tr>\n",
              "      <th>42</th>\n",
              "      <td>Colombia</td>\n",
              "      <td>43</td>\n",
              "      <td>38</td>\n",
              "      <td>51</td>\n",
              "    </tr>\n",
              "    <tr>\n",
              "      <th>43</th>\n",
              "      <td>Dominican Republic</td>\n",
              "      <td>44</td>\n",
              "      <td>14</td>\n",
              "      <td>44</td>\n",
              "    </tr>\n",
              "    <tr>\n",
              "      <th>44</th>\n",
              "      <td>Grenada</td>\n",
              "      <td>45</td>\n",
              "      <td>49</td>\n",
              "      <td>25</td>\n",
              "    </tr>\n",
              "    <tr>\n",
              "      <th>45</th>\n",
              "      <td>Macedonia, FYR</td>\n",
              "      <td>46</td>\n",
              "      <td>55</td>\n",
              "      <td>39</td>\n",
              "    </tr>\n",
              "    <tr>\n",
              "      <th>46</th>\n",
              "      <td>Serbia</td>\n",
              "      <td>47</td>\n",
              "      <td>58</td>\n",
              "      <td>47</td>\n",
              "    </tr>\n",
              "    <tr>\n",
              "      <th>47</th>\n",
              "      <td>Iraq</td>\n",
              "      <td>48</td>\n",
              "      <td>11</td>\n",
              "      <td>8</td>\n",
              "    </tr>\n",
              "    <tr>\n",
              "      <th>48</th>\n",
              "      <td>Algeria</td>\n",
              "      <td>49</td>\n",
              "      <td>22</td>\n",
              "      <td>52</td>\n",
              "    </tr>\n",
              "    <tr>\n",
              "      <th>49</th>\n",
              "      <td>Costa Rica</td>\n",
              "      <td>50</td>\n",
              "      <td>57</td>\n",
              "      <td>61</td>\n",
              "    </tr>\n",
              "    <tr>\n",
              "      <th>50</th>\n",
              "      <td>Thailand</td>\n",
              "      <td>51</td>\n",
              "      <td>48</td>\n",
              "      <td>53</td>\n",
              "    </tr>\n",
              "    <tr>\n",
              "      <th>51</th>\n",
              "      <td>Montenegro</td>\n",
              "      <td>52</td>\n",
              "      <td>60</td>\n",
              "      <td>50</td>\n",
              "    </tr>\n",
              "    <tr>\n",
              "      <th>52</th>\n",
              "      <td>Suriname</td>\n",
              "      <td>53</td>\n",
              "      <td>28</td>\n",
              "      <td>18</td>\n",
              "    </tr>\n",
              "    <tr>\n",
              "      <th>53</th>\n",
              "      <td>Bulgaria</td>\n",
              "      <td>54</td>\n",
              "      <td>54</td>\n",
              "      <td>38</td>\n",
              "    </tr>\n",
              "    <tr>\n",
              "      <th>54</th>\n",
              "      <td>Panama</td>\n",
              "      <td>55</td>\n",
              "      <td>33</td>\n",
              "      <td>57</td>\n",
              "    </tr>\n",
              "    <tr>\n",
              "      <th>55</th>\n",
              "      <td>Mauritius</td>\n",
              "      <td>56</td>\n",
              "      <td>47</td>\n",
              "      <td>35</td>\n",
              "    </tr>\n",
              "    <tr>\n",
              "      <th>56</th>\n",
              "      <td>Azerbaijan</td>\n",
              "      <td>57</td>\n",
              "      <td>9</td>\n",
              "      <td>13</td>\n",
              "    </tr>\n",
              "    <tr>\n",
              "      <th>57</th>\n",
              "      <td>Belarus</td>\n",
              "      <td>58</td>\n",
              "      <td>61</td>\n",
              "      <td>19</td>\n",
              "    </tr>\n",
              "    <tr>\n",
              "      <th>58</th>\n",
              "      <td>Lebanon</td>\n",
              "      <td>59</td>\n",
              "      <td>56</td>\n",
              "      <td>60</td>\n",
              "    </tr>\n",
              "    <tr>\n",
              "      <th>59</th>\n",
              "      <td>Iran</td>\n",
              "      <td>60</td>\n",
              "      <td>34</td>\n",
              "      <td>43</td>\n",
              "    </tr>\n",
              "    <tr>\n",
              "      <th>60</th>\n",
              "      <td>Romania</td>\n",
              "      <td>61</td>\n",
              "      <td>52</td>\n",
              "      <td>37</td>\n",
              "    </tr>\n",
              "  </tbody>\n",
              "</table>\n",
              "</div>"
            ],
            "text/plain": [
              "                            Negara  ...  Rank Harapan hidup\n",
              "31                       Sri Lanka  ...                  42\n",
              "32                         Ecuador  ...                  54\n",
              "33                          Jordan  ...                  48\n",
              "34                           China  ...                  45\n",
              "35          Bosnia and Herzegovina  ...                  55\n",
              "36                           Egypt  ...                  22\n",
              "37  St. Vincent and the Grenadines  ...                  29\n",
              "38                         Albania  ...                  49\n",
              "39                            Peru  ...                  58\n",
              "40                         Tunisia  ...                  56\n",
              "41                        Maldives  ...                  59\n",
              "42                        Colombia  ...                  51\n",
              "43              Dominican Republic  ...                  44\n",
              "44                         Grenada  ...                  25\n",
              "45                  Macedonia, FYR  ...                  39\n",
              "46                          Serbia  ...                  47\n",
              "47                            Iraq  ...                   8\n",
              "48                         Algeria  ...                  52\n",
              "49                      Costa Rica  ...                  61\n",
              "50                        Thailand  ...                  53\n",
              "51                      Montenegro  ...                  50\n",
              "52                        Suriname  ...                  18\n",
              "53                        Bulgaria  ...                  38\n",
              "54                          Panama  ...                  57\n",
              "55                       Mauritius  ...                  35\n",
              "56                      Azerbaijan  ...                  13\n",
              "57                         Belarus  ...                  19\n",
              "58                         Lebanon  ...                  60\n",
              "59                            Iran  ...                  43\n",
              "60                         Romania  ...                  37\n",
              "\n",
              "[30 rows x 4 columns]"
            ]
          },
          "metadata": {},
          "execution_count": 283
        }
      ]
    }
  ]
}
